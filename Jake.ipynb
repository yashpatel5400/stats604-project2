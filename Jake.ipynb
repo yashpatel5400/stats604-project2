{
 "cells": [
  {
   "cell_type": "code",
   "execution_count": null,
   "id": "b2335bfe",
   "metadata": {},
   "outputs": [],
   "source": []
  },
  {
   "cell_type": "markdown",
   "id": "deec6175",
   "metadata": {},
   "source": [
    "Another test we ran was done by using generalized linear models (GLMs). When doing prelimary research on the topic of differential expressions we found an R package called DESeq2. This package has over 27000 citations and it uses GLMs on the raw count data, along with more technical processes to get differentially expressed genes.  Therefore, since it seems that GLMs are a well preceded method in the bioinformatics community we decided to try our own GLM model to test the research questions.\n",
    "\n",
    "As for the specifics, we ran a GLM on the original dataset with a gaussian family and canonical link. For the formula we use gene_expression ~ \\[variable we are looking at\\] + lab + chip.version + constant. The lab and chip version were added to control for any confounding they might have since we are still using the original dataset. Therefore, this method can also be used as a sanity check for making sure our normalization works as desired. If the GLM model and our model that uses our normalized data output similar genes, then we have more confidence in both our results and techniques.\n",
    "\n",
    "For the males and females split, we ran a GLM on each gene and found the p-value for the sex variable. We then ran the Bonferroni family-wise error rate correction with $\\alpha = .05$ and got 2 genes that are significant: DDX3Y and RPS4Y1.\n",
    "\n",
    "For the region split, we ran a GLM on each gene and found the p-value for the region variable. We then ran the Bonferroni family-wise error rate correction with $\\alpha = .05$ and got 4 genes that are significant: CABP1, CARTPT, SCN1B, COX7A1.\n",
    "\n",
    "We choose to use a Bonferroni correction due to its conservative nature. Since GLMs are well precedented and the Bonferroni procedure is a very conserative correction, we can be very confident that the findings we get for our GLMs are worth looking into.\n",
    "\n",
    "We also ran a Monte-Carlo permutation test on the difference of means on our research questions using the normalized data. Given a gene, if under the null hypothesis males and females (or A.C.C. vs D.L.P.F.C.) have no differences, then if we aggregate the male and female data points and go through all possible permutations of male/female (A.C.C./D.L.P.F.C.) assignment, then we can see how unlikely our found difference in means was. However, since we have many genes and many samples for each gene, going through all possible permutations is computationally expensive. Thus, we only run 1000 random permutations and get our p-value from these permutations. It is known that the standard deviation of this is $\\sqrt{\\frac{\\hat{p}(1-\\hat{p})}{1000}} \\leq \\sqrt{\\frac{.5\\cdot.5}{1000}} \\approx .0158$, which we deemed acceptable due to the leniency we have been given to find differentably expressed genes.\n",
    "\n",
    "When running our Monte-Carlo permutation tests for male vs. female, using the Benjamini-Hochberg false discovery rate correction with $\\alpha = .1$, we got the following 5 differentiably expressed genes: UTY, USP9Y, KDM5D, DDX3Y, RPS4Y1.\n",
    "\n",
    "When running our Monte-Carlo permutation tests for A.C. cortex vs. D.L.P.F. cortex, using the Benjamini-Hochberg false discovery rate correction with $\\alpha = .1$, we got the following 10 differentiably expressed genes: ZNF609, DAPK3, CARTPT, AP1S1, ZYX, NDUFS8, CAMTA1, CCDC106, SLC9A3R2, RHBDD3. While these only share 1 common gene with the GLM model, we will note that the others declared significant in the GLM model were still among the genes with the smallest $\\hat{p}$s, with the largest of them having a $\\hat{p}$ being $.015$."
   ]
  },
  {
   "cell_type": "markdown",
   "id": "36dfcc45",
   "metadata": {},
   "source": [
    "## Imports"
   ]
  },
  {
   "cell_type": "code",
   "execution_count": 1,
   "id": "c478b718",
   "metadata": {},
   "outputs": [],
   "source": [
    "import numpy as np\n",
    "import pandas as pd\n",
    "import seaborn as sns\n",
    "import matplotlib.pyplot as plt\n",
    "import pyreadr\n",
    "import statsmodels.formula.api as smf\n",
    "import statsmodels.api as sm\n",
    "from tqdm import tqdm\n",
    "from multiprocess import Pool\n",
    "from statsmodels.stats.multitest import fdrcorrection, multipletests"
   ]
  },
  {
   "cell_type": "markdown",
   "id": "d4cf1e9e",
   "metadata": {},
   "source": [
    "## Reading in Data"
   ]
  },
  {
   "cell_type": "code",
   "execution_count": 60,
   "id": "97e3bc70",
   "metadata": {},
   "outputs": [],
   "source": [
    "rda = pyreadr.read_r('data/brain.rda')\n",
    "expression = rda[\"expression\"]\n",
    "genes = rda[\"genes\"]\n",
    "samples = rda[\"samples\"]\n",
    "\n",
    "norm_data = pd.read_csv(\"data/normalized_genes.csv\")\n",
    "no_bact_cols = expression.loc[:,[not x for x in genes[\"chrom\"].isna().to_numpy()]].columns"
   ]
  },
  {
   "cell_type": "markdown",
   "id": "c1f21467",
   "metadata": {},
   "source": [
    "## GLM"
   ]
  },
  {
   "cell_type": "markdown",
   "id": "cd17b451",
   "metadata": {},
   "source": [
    "### Male vs. Female"
   ]
  },
  {
   "cell_type": "code",
   "execution_count": 7,
   "id": "ac7d5e8d",
   "metadata": {},
   "outputs": [],
   "source": [
    "glm_no_normal = expression.copy()\n",
    "glm_no_normal[\"sex\"] = samples[\"sex\"]\n",
    "glm_no_normal[\"region\"] = samples[\"region\"]\n",
    "glm_no_normal[\"lab\"] = samples[\"lab\"]\n",
    "glm_no_normal[\"chip.version\"] = samples[\"chip.version\"]\n",
    "glm_no_normal[\"patient\"] = samples[\"patient\"]\n",
    "formula = \"38355_at~sex+region+lab+chip.version\"\n",
    "columns = [\"sex\",\"lab\",\"chip.version\"]\n",
    "dummies = pd.get_dummies(data=glm_no_normal[columns], columns=columns, drop_first=True)\n",
    "dummies = sm.add_constant(dummies)\n",
    "dummies\n",
    "pvals_m_f = []\n",
    "#a = smf.glm(formula=formula, data=glm_no_normal, family=sm.families.Gamma(sm.families.links.log())).fit()\n",
    "for i in no_bact_cols:\n",
    "    a = sm.GLM(endog=glm_no_normal[i], exog=dummies, family=sm.families.Gaussian()).fit()#sm.families.NegativeBinomial(sm.families.links.log())).fit()\n",
    "    pvals_m_f.append((a.pvalues[1],i))"
   ]
  },
  {
   "cell_type": "code",
   "execution_count": 8,
   "id": "10c231da",
   "metadata": {},
   "outputs": [
    {
     "name": "stdout",
     "output_type": "stream",
     "text": [
      "DDX3Y\n",
      "RPS4Y1\n"
     ]
    }
   ],
   "source": [
    "for x in np.array(pvals_m_f)[multipletests([x[0] for x in pvals_m_f], alpha=.05, method=\"bonferroni\")[0]]:\n",
    "    print(genes.loc[x[1]][\"sym\"])"
   ]
  },
  {
   "cell_type": "markdown",
   "id": "c63ba781",
   "metadata": {},
   "source": [
    "### A.C.C. vs. D.L.P.F.C."
   ]
  },
  {
   "cell_type": "code",
   "execution_count": 10,
   "id": "078ea77f",
   "metadata": {},
   "outputs": [],
   "source": [
    "glm_region = expression.copy()\n",
    "glm_region[\"sex\"] = samples[\"sex\"]\n",
    "glm_region[\"region\"] = samples[\"region\"]\n",
    "glm_region[\"lab\"] = samples[\"lab\"]\n",
    "glm_region[\"chip.version\"] = samples[\"chip.version\"]\n",
    "glm_region[\"patient\"] = samples[\"patient\"]\n",
    "glm_region=glm_region.loc[[x in [\"A.C. cortex\", \"D.L.P.F. cortex\"] for x in glm_region[\"region\"]]]\n",
    "columns = [\"region\",\"lab\",\"chip.version\"]\n",
    "dummies = pd.get_dummies(data=glm_region[columns], columns=columns, drop_first=True)\n",
    "dummies = sm.add_constant(dummies)\n",
    "dummies = dummies.drop([\"region_cerebellum\"], axis=1)\n",
    "pvals_region = []\n",
    "#a = smf.glm(formula=formula, data=glm_no_normal, family=sm.families.Gamma(sm.families.links.log())).fit()\n",
    "for i in no_bact_cols:\n",
    "    a = sm.GLM(endog=glm_region[i], exog=dummies, family=sm.families.Gaussian()).fit()#sm.families.NegativeBinomial(sm.families.links.log())).fit()\n",
    "    pvals_region.append((a.pvalues[1],i))"
   ]
  },
  {
   "cell_type": "code",
   "execution_count": 61,
   "id": "94312ea3",
   "metadata": {},
   "outputs": [
    {
     "name": "stdout",
     "output_type": "stream",
     "text": [
      "CABP1\n",
      "CARTPT\n",
      "SCN1B\n",
      "COX7A1\n"
     ]
    }
   ],
   "source": [
    "for x in np.array(pvals_region)[multipletests([x[0] for x in pvals_region], alpha=.05, method=\"bonferroni\")[0]]:\n",
    "    print(genes.loc[x[1]][\"sym\"])"
   ]
  },
  {
   "cell_type": "markdown",
   "id": "ebc0b1d1",
   "metadata": {},
   "source": [
    "## Permutation Testing"
   ]
  },
  {
   "cell_type": "code",
   "execution_count": 43,
   "id": "81092391",
   "metadata": {},
   "outputs": [],
   "source": [
    "def perm(data1, data2, runs, test_stat):\n",
    "    '''Does a Monte Carlo permutation test'''\n",
    "    count = 0\n",
    "    for i in range(runs):\n",
    "        total_data = np.concatenate((data1, data2))\n",
    "        perm_data1 = np.random.choice(total_data, len(data1))\n",
    "        perm_data2 = np.setdiff1d(total_data, perm_data1)\n",
    "        if test_stat(perm_data1, perm_data2) > test_stat(data1, data2):\n",
    "            count += 1\n",
    "    p_hat = count/runs\n",
    "    return (p_hat, np.sqrt((p_hat*(1-p_hat))/runs)) #p_hat and std_dev returned\n",
    "\n",
    "def perm_multi(a):\n",
    "    '''Does a Monte Carlo permutation test, but written so that we can use multiprocessing'''\n",
    "    data1, data2, runs, test_stat, col = a\n",
    "    count = 0\n",
    "    for i in range(runs):\n",
    "        total_data = np.concatenate((data1, data2))\n",
    "        perm_data1 = np.random.choice(total_data, len(data1))\n",
    "        perm_data2 = np.setdiff1d(total_data, perm_data1)\n",
    "        if test_stat(perm_data1, perm_data2) > test_stat(data1, data2):\n",
    "            count += 1\n",
    "    p_hat = count/runs\n",
    "    return (p_hat, np.sqrt((p_hat*(1-p_hat))/runs), col) #p_hat, std_dev, and column name returned"
   ]
  },
  {
   "cell_type": "markdown",
   "id": "af4a1858",
   "metadata": {},
   "source": [
    "### Male vs. Female"
   ]
  },
  {
   "cell_type": "code",
   "execution_count": 63,
   "id": "9f0f508a",
   "metadata": {},
   "outputs": [],
   "source": [
    "males = norm_data.loc[norm_data[\"rownames\"].isin(((samples[\"sex\"]==\"male\").index[(samples[\"sex\"]==\"male\")]))]\n",
    "females = norm_data.loc[norm_data[\"rownames\"].isin(((samples[\"sex\"]==\"female\").index[(samples[\"sex\"]==\"female\")]))]\n",
    "columns = norm_data.columns.to_numpy()[1:]"
   ]
  },
  {
   "cell_type": "code",
   "execution_count": 44,
   "id": "e45db558",
   "metadata": {},
   "outputs": [
    {
     "name": "stderr",
     "output_type": "stream",
     "text": [
      "100%|███████████████████████████████████████| 8783/8783 [03:50<00:00, 38.13it/s]\n"
     ]
    }
   ],
   "source": [
    "max_pool = 8\n",
    "arrs = [(males[col], females[col],1000, lambda x,y: abs(np.mean(x) - np.mean(y)), col) for col in columns]\n",
    "with Pool(max_pool) as p:\n",
    "    sex_outputs = list(tqdm(p.imap(perm_multi,arrs),total=len(arrs)))"
   ]
  },
  {
   "cell_type": "code",
   "execution_count": 52,
   "id": "c319817a",
   "metadata": {},
   "outputs": [
    {
     "name": "stdout",
     "output_type": "stream",
     "text": [
      "UTY\n",
      "USP9Y\n",
      "KDM5D\n",
      "DDX3Y\n",
      "RPS4Y1\n"
     ]
    }
   ],
   "source": [
    "sex_outputs.sort(key=lambda x: x[0])\n",
    "for x in np.array(sex_outputs)[multipletests([x[0] for x in sex_outputs], alpha=.1, method=\"fdr_bh\")[0]]:\n",
    "    print(x[2])"
   ]
  },
  {
   "cell_type": "markdown",
   "id": "91471066",
   "metadata": {},
   "source": [
    "### Region"
   ]
  },
  {
   "cell_type": "code",
   "execution_count": 55,
   "id": "10d84a67",
   "metadata": {},
   "outputs": [],
   "source": [
    "acc = norm_data.loc[norm_data[\"rownames\"].isin(((samples[\"region\"]==\"A.C. cortex\").index[(samples[\"region\"]==\"A.C. cortex\")]))]\n",
    "dlpfc = norm_data.loc[norm_data[\"rownames\"].isin(((samples[\"region\"]==\"D.L.P.F. cortex\").index[(samples[\"region\"]==\"D.L.P.F. cortex\")]))]"
   ]
  },
  {
   "cell_type": "code",
   "execution_count": 56,
   "id": "5998cd6c",
   "metadata": {},
   "outputs": [
    {
     "name": "stderr",
     "output_type": "stream",
     "text": [
      "100%|███████████████████████████████████████| 8783/8783 [03:44<00:00, 39.10it/s]\n"
     ]
    }
   ],
   "source": [
    "max_pool = 8\n",
    "arrs = [(acc[col], dlpfc[col],1000, lambda x,y: abs(np.mean(x) - np.mean(y)), col) for col in columns]\n",
    "with Pool(max_pool) as p:\n",
    "    region_outputs = list(tqdm(p.imap(perm_multi,arrs),total=len(arrs)))"
   ]
  },
  {
   "cell_type": "code",
   "execution_count": 64,
   "id": "3ee04c4e",
   "metadata": {},
   "outputs": [
    {
     "name": "stdout",
     "output_type": "stream",
     "text": [
      "ZNF609\n",
      "DAPK3\n",
      "CARTPT\n",
      "AP1S1\n",
      "ZYX\n",
      "NDUFS8\n",
      "CAMTA1\n",
      "CCDC106\n",
      "SLC9A3R2\n",
      "RHBDD3\n"
     ]
    }
   ],
   "source": [
    "region_outputs.sort(key=lambda x: x[0])\n",
    "for x in np.array(region_outputs)[multipletests([x[0] for x in region_outputs], alpha=.1, method=\"fdr_bh\")[0]]:\n",
    "    print(x[2])"
   ]
  }
 ],
 "metadata": {
  "kernelspec": {
   "display_name": "Python 3 (ipykernel)",
   "language": "python",
   "name": "python3"
  },
  "language_info": {
   "codemirror_mode": {
    "name": "ipython",
    "version": 3
   },
   "file_extension": ".py",
   "mimetype": "text/x-python",
   "name": "python",
   "nbconvert_exporter": "python",
   "pygments_lexer": "ipython3",
   "version": "3.10.4"
  }
 },
 "nbformat": 4,
 "nbformat_minor": 5
}

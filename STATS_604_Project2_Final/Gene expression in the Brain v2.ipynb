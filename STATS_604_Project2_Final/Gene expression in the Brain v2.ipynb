{
 "cells": [
  {
   "cell_type": "markdown",
   "id": "e2dc86ad",
   "metadata": {},
   "source": [
    "# Team Members: Ben Agyare, Yumeng Wang, Jake Trauger, Yash Patel\n",
    "We present herein the findings from our explorations on differential gene expression in the brain. In this report, we present some initial genes that could be of interest for further investigation. Such suggestions are further qualified with our corresponding level of confidence, largely based on replication across the statistical analyses we present. The report is, therefore, broken into the following sections:\n",
    "\n",
    "- Data exploration\n",
    "- Normalization\n",
    "- T-test analysis\n",
    "- GLM analysis\n",
    "- Permutation test analysis\n",
    "- Rank-sum analysis\n",
    "- Conclusion\n",
    "\n",
    "Each section is annotated with the corresponding code and figures in the sections below along with associated exposition."
   ]
  },
  {
   "cell_type": "code",
   "execution_count": null,
   "id": "ceb06e1a",
   "metadata": {},
   "outputs": [],
   "source": [
    "import pyreadr\n",
    "import sys\n",
    "import os\n",
    "import pickle\n",
    "\n",
    "import numpy as np\n",
    "import pandas as pd\n",
    "import seaborn as sns\n",
    "import matplotlib.pyplot as plt\n",
    "\n",
    "import scipy\n",
    "import statsmodels\n",
    "from statsmodels.stats.multitest import multipletests\n",
    "from scipy.stats import ranksums\n",
    "\n",
    "import numpy as np\n",
    "import pandas as pd\n",
    "import seaborn as sns\n",
    "import matplotlib.pyplot as plt\n",
    "import pyreadr\n",
    "import statsmodels.formula.api as smf\n",
    "import statsmodels.api as sm\n",
    "from tqdm import tqdm\n",
    "from multiprocess import Pool\n",
    "from statsmodels.stats.multitest import fdrcorrection, multipletests\n",
    "\n",
    "import pickle\n",
    "import copy\n",
    "import numpy as np\n",
    "import pandas as pd\n",
    "pd.set_option('display.max_columns', 200)\n",
    "import scipy.stats as stats\n",
    "import matplotlib.pyplot as plt\n",
    "import seaborn as sns\n",
    "import sys\n",
    "import collections\n",
    "import os\n",
    "from scipy.ndimage.filters import gaussian_filter\n",
    "import cv2\n",
    "from statsmodels.stats.multitest import multipletests\n",
    "import warnings\n",
    "warnings.filterwarnings('ignore')\n",
    "\n",
    "sns.set_style(\"whitegrid\")\n",
    "plt.rcParams['text.usetex'] = True\n",
    "plt.rcParams[\"axes.grid\"] = False\n",
    "blue, = sns.color_palette(\"muted\", 1)"
   ]
  },
  {
   "cell_type": "code",
   "execution_count": null,
   "id": "62eaf961",
   "metadata": {},
   "outputs": [],
   "source": [
    "# Load and combine the data\n",
    "result = pyreadr.read_r('./data/brain.rda')\n",
    "#print(result.keys())\n",
    "expression = result['expression']\n",
    "genes = result['genes']\n",
    "samples = result['samples']\n",
    "print(expression.shape)\n",
    "print(samples.shape)\n",
    "\n",
    "# combine the expression and samples\n",
    "data = pd.concat([expression, samples], axis=1)"
   ]
  },
  {
   "cell_type": "markdown",
   "id": "42510f18",
   "metadata": {},
   "source": [
    "# Exploratory analysis"
   ]
  },
  {
   "cell_type": "markdown",
   "id": "293468ce",
   "metadata": {},
   "source": [
    "For a good experimental design for gene differential analysis, measurements have to be accurate. Due to uncertainty in measurements, there is the need for replication. The most common types of replications are biological and technical replications. Biological replication involves taking measurements mostly in the same lab and with same technology for several samples of the same cell, while technical replication deals with repeating identical labs and protocols for sequencing on a single sample. While replication fosters confidence in our analysis as it enables us to quantify uncertainty, it posses yet a potential problem in gene differential analysis. For example, technical replication, if exists, could confound the true gene expression differentiation or can cause expression for reasons unrelated to the levels of the expression. Thus, it is highly imperative to investigate the presence of variations arising from replications before conducting further statistical analysis.\n"
   ]
  },
  {
   "cell_type": "code",
   "execution_count": null,
   "id": "ff3ef323",
   "metadata": {
    "name": "load_hidden",
    "tags": [
     "remove_input",
     "remove_output"
    ],
    "warning": false
   },
   "outputs": [],
   "source": [
    "knitr::opts_chunk$set(echo = FALSE)\n",
    "\n",
    "\n",
    "#-------------------- INSTALL REQUIRED PACKAGES ---------------------\n",
    "# if (!requireNamespace(\"BiocManager\"))\n",
    "#     install.packages(\"BiocManager\")\n",
    "# BiocManager::install(c(\"limma\", \"edgeR\", \"Glimma\", \"org.Mm.eg.db\", \"gplots\", \"RColorBrewer\", \"NMF\", \"BiasedUrn\", \"DESeq2\"))\n",
    "\n",
    "#--------------------- LOAD PACKAGES ----------------\n",
    "suppressPackageStartupMessages({\n",
    "library(edgeR)\n",
    "library(limma)\n",
    "library(gplots)\n",
    "library(RColorBrewer)\n",
    "library(tidyverse)\n",
    "})"
   ]
  },
  {
   "cell_type": "code",
   "execution_count": null,
   "id": "b2a54287",
   "metadata": {
    "cache": true,
    "lines_to_next_cell": 0
   },
   "outputs": [],
   "source": [
    "#---------------------  Read the data into R\n",
    "load(\"data/brain.rda\")\n",
    "\n",
    "expr = as.data.frame(expression)\n",
    "gen  = as.data.frame(genes) %>%\n",
    "          mutate(row_name = rownames(.), .before = sym)\n",
    "samp = as.data.frame(samples)\n",
    "samp$patient = as.factor(samp$patient)\n",
    "\n",
    "#-------------------- Normalized Gene data\n",
    "expr_g_form <- read.csv(\"data/normalized_genes.csv\",\n",
    "                        header = T, sep = \",\", check.names = FALSE) # genes\n",
    "expr_p_form <- read.csv(\"data/normalized_probes.csv\",\n",
    "                        header = T, sep = \",\", check.names = FALSE) # probes\n"
   ]
  },
  {
   "cell_type": "code",
   "execution_count": null,
   "id": "7bf464c1",
   "metadata": {
    "lines_to_next_cell": 2,
    "name": "original data"
   },
   "outputs": [],
   "source": [
    "#------------------- Inspecting data\n",
    "##### expression data ######\n",
    "## NA gene symbols\n",
    "genn_s <- is.na(gen$sym)\n",
    "genn_c <- is.na(gen$chrom)\n",
    "\n",
    "## Get rownames of NA genes\n",
    "row_name_NA <- gen[genn_s, \"row_name\"]\n",
    "\n",
    "## bacteria genes\n",
    "bact_gen <- expr %>%\n",
    "  dplyr::select(all_of(row_name_NA) | contains(\"AFFX\")) \n",
    "\n",
    "## Corrected genes (without bacteria)\n",
    "gen_cr <- gen[!(gen$row_name %in% names(bact_gen)), ]"
   ]
  },
  {
   "cell_type": "code",
   "execution_count": null,
   "id": "83a95776",
   "metadata": {
    "lines_to_next_cell": 2,
    "name": "normalized data"
   },
   "outputs": [],
   "source": [
    "# We can use row names of the `expression data` to identify source of lab for bacteria genes for normalization.\n",
    "\n",
    "#------------------- Inspecting data\n",
    "\n",
    "##### expression data ######\n",
    "gen_form <- gen %>%\n",
    "              filter(row_name %in% names(expr_p_form)[-1])\n",
    "\n",
    "\n",
    "## for probes             \n",
    "expr_p_formed <- expr_p_form[-1]\n",
    "rownames(expr_p_formed) <- rownames(samp)\n",
    "\n",
    "## for genes\n",
    "expr_g_formed <- expr_g_form[-1]\n",
    "rownames(expr_g_formed) <- rownames(samp)"
   ]
  },
  {
   "cell_type": "code",
   "execution_count": null,
   "id": "d053b81e",
   "metadata": {
    "lines_to_next_cell": 0
   },
   "outputs": [],
   "source": [
    "#--------------- Remove bacteria genes\n",
    "## now remove bacteria genes and format the data as gene for row and sample for column\n",
    "expr_f0 <- as.data.frame(expr) %>%\n",
    "  dplyr::select(-(names(bact_gen))) %>%\n",
    "  t() %>%\n",
    "  as.data.frame()\n",
    "\n",
    "\n",
    "expr_f <-expr_p_formed %>%\n",
    "  t() %>%\n",
    "  as.data.frame()\n",
    "\n",
    "\n",
    "## for genes\n",
    "expr_g <-expr_g_formed %>%\n",
    "  t() %>%\n",
    "  as.data.frame()"
   ]
  },
  {
   "cell_type": "code",
   "execution_count": null,
   "id": "64bd26c0",
   "metadata": {
    "lines_to_next_cell": 2
   },
   "outputs": [],
   "source": [
    "## convert expr to DGEList object\n",
    "expr_DGE_0  <- DGEList(expr_f0)\n",
    "expr_DGE_1  <- expr_DGE_2 <- DGEList(expr_f)\n",
    "expr_DGE_g  <- expr_DGE_2 <- DGEList(expr_g)\n",
    "\n",
    "## add gene data\n",
    "expr_DGE_0$genes  <- gen_cr\n",
    "expr_DGE_1$genes  <- expr_DGE_2$genes <- gen_form\n",
    "\n",
    "\n",
    "# Add the group information into the DGEList\n",
    "expr_DGE_g$samples$group <- factor(samp$sex)\n",
    "expr_DGE_1$samples$group <- factor(samp$sex)\n",
    "expr_DGE_2$samples$group <- factor(str_replace_all(samp$region, \" \", \"\"))"
   ]
  },
  {
   "cell_type": "markdown",
   "id": "c25343a0",
   "metadata": {},
   "source": [
    "The dataset has technical replicates. Measurements were taken from three labs Michigan, Irvine and Davis. We first make examine the distribution of genes by Lab for both sexes (first two figures below) and the look at same for the ACC \\& DLPFC brain regions by lab (the two figures thereafter)."
   ]
  },
  {
   "cell_type": "code",
   "execution_count": null,
   "id": "c6cd4002",
   "metadata": {},
   "outputs": [],
   "source": [
    "data_sex = data.groupby(['sex', 'lab']).median()\n",
    "sns.histplot(data_sex.iloc[0,], label = 'Davis', color ='tab:blue')\n",
    "sns.histplot(data_sex.iloc[1,], label = 'Irvine', color = 'tab:green')\n",
    "sns.histplot(data_sex.iloc[2,], label = 'Michigan', color = 'tab:orange')\n",
    "\n",
    "plt.title('Female')\n",
    "plt.xlabel('gene expression')\n",
    "plt.legend(labels=['Davis', 'Irvine', 'Michigan']) "
   ]
  },
  {
   "cell_type": "code",
   "execution_count": null,
   "id": "4124fecc",
   "metadata": {},
   "outputs": [],
   "source": [
    "sns.histplot(data_sex.iloc[3,], label = 'Davis', color ='tab:blue')\n",
    "sns.histplot(data_sex.iloc[4,], label = 'Irvine', color = 'tab:green')\n",
    "sns.histplot(data_sex.iloc[5,], label = 'Michigan', color = 'tab:orange')\n",
    "\n",
    "plt.title('Male')\n",
    "plt.xlabel('gene expression')\n",
    "plt.legend(labels=['Davis', 'Irvine', 'Michigan']) "
   ]
  },
  {
   "cell_type": "markdown",
   "id": "802fb9f4",
   "metadata": {},
   "source": [
    "Repeating the above for AC and DLPF:"
   ]
  },
  {
   "cell_type": "code",
   "execution_count": null,
   "id": "35aa6f4e",
   "metadata": {},
   "outputs": [],
   "source": [
    "data_region = data.groupby(['region', 'lab']).median()\n",
    "sns.histplot(data_region.iloc[0,], label = 'Davis', color ='tab:blue')\n",
    "sns.histplot(data_region.iloc[1,], label = 'Irvine', color = 'tab:green')\n",
    "sns.histplot(data_region.iloc[2,], label = 'Michigan', color = 'tab:orange')\n",
    "\n",
    "plt.title('AC')\n",
    "plt.xlabel('gene expression')\n",
    "plt.legend(labels=['Davis', 'Irvine', 'Michigan']) "
   ]
  },
  {
   "cell_type": "code",
   "execution_count": null,
   "id": "dc107c32",
   "metadata": {},
   "outputs": [],
   "source": [
    "data_region = data.groupby(['region', 'lab']).median()\n",
    "sns.histplot(data_region.iloc[3,], label = 'Davis', color ='tab:blue')\n",
    "sns.histplot(data_region.iloc[4,], label = 'Irvine', color = 'tab:green')\n",
    "sns.histplot(data_region.iloc[5,], label = 'Michigan', color = 'tab:orange')\n",
    "\n",
    "plt.title('DLPF')\n",
    "plt.xlabel('gene expression')\n",
    "plt.legend(labels=['Davis', 'Irvine', 'Michigan']) "
   ]
  },
  {
   "cell_type": "markdown",
   "id": "aa030836",
   "metadata": {},
   "source": [
    "We observe in Fig 1 \\& 2 that the distributions of the gene expressions vary by lab for both sexes. This is a clear indication of variability due to technical replication. Same story can be told about the distributions of the genes for the ACC \\& DLPFC brain regions. Further, we make a Multi-Dimensional Scale (MDS) plot to see how the various replicates cluster among each other for the 10 patients."
   ]
  },
  {
   "cell_type": "code",
   "execution_count": null,
   "id": "9d76a1ab",
   "metadata": {
    "fig.align": "center",
    "lines_to_next_cell": 0
   },
   "outputs": [],
   "source": [
    "par(mar = c(9,5,3,8), xpd = T)\n",
    "col.patient <- c(rainbow(6), \"dodgerblue\", \"darkorange\", \"black\", \"brown\")[samp$patient]\n",
    "pch.region  <- c(1,4, 6)[samp$region]\n",
    "plotMDS(expr_DGE_0, col=col.patient, pch = pch.region, cex = 1.5,\n",
    "        xlab = \"Leading dim 1\",\n",
    "        ylab = \"Leading dim 2\")\n",
    "legend(\"topright\", inset = c(-0.36, 0.0),\n",
    "       legend=levels(samp$patient),\n",
    "       fill = unique(col.patient)\n",
    "       )\n",
    "legend(\"topright\", inset = c(0.4, 1.4),\n",
    "       legend=levels(samp$region),\n",
    "       pch=c(1,4, 6)\n",
    "       )\n",
    "title(\"MDS for technical variation (pre-normalization)\")"
   ]
  },
  {
   "cell_type": "markdown",
   "id": "42d37248",
   "metadata": {},
   "source": [
    "This above figure show the first two dimensions of the MDS. The first dimension explains 35\\% while the second explains 23\\% of the total variation explained by the MDS. Clearly, there is significant sparsity for the replicates of each patient as the various measurements across the three labs are farther apart.   \n",
    " \n",
    "The issue of variation due to technical replications is one that had left researches with serious decisions to make in the past years. Should the scientist throw the data away and start all over? Recent developments have provided a good solution to handle this problem with Normalization. There have been several normalization techniques that scientists have employed in reducing technical variations including the use of housekeeping (control) genes as baseline or the expression level from a particular quantile of the distribution of gene expression values of each sample as well as using variance stabilizing transform from statistical modeling. We employ one of the Normalization techniques which would be discussed in the subsequent section and visualize the MDS plot post normalization in the figure below."
   ]
  },
  {
   "cell_type": "code",
   "execution_count": null,
   "id": "5484795e",
   "metadata": {
    "fig.align": "center",
    "lines_to_next_cell": 2
   },
   "outputs": [],
   "source": [
    "par(mar = c(9,5,3,8), xpd = T)\n",
    "col.patient <- c(rainbow(6), \"dodgerblue\", \"darkorange\", \"black\", \"brown\")[samp$patient]\n",
    "pch.region  <- c(1,4, 6)[samp$region]\n",
    "plotMDS(expr_DGE_1, col=col.patient, pch = pch.region, cex = 1.5,\n",
    "        xlab = \"Leading dim 1\",\n",
    "        ylab = \"Leading dim 2\")\n",
    "legend(\"topright\", inset = c(-0.36, 0.0),\n",
    "       legend=levels(samp$patient),\n",
    "       fill = unique(col.patient)\n",
    "       )\n",
    "legend(\"topright\", inset = c(0.4, 1.4),\n",
    "       legend=levels(samp$region),\n",
    "       pch=c(1,4, 6)\n",
    "       )\n",
    "title(\"MDS for technical variation (post normailization)\")\n",
    "# 3. Close the file\n",
    "#dev.off()\n"
   ]
  },
  {
   "cell_type": "markdown",
   "id": "a769b220",
   "metadata": {},
   "source": [
    "We observe that, normalizating the data has resulted in significant reduction in the variation due to technical replication (comparing Fig 5 and 6). This gives us some confidence in assessing the true gene differentiation as we perform the appropriate statistical analyses in the rest of the sections of this report.\n",
    "\n",
    "\n",
    "\n"
   ]
  },
  {
   "cell_type": "markdown",
   "id": "edc854d0",
   "metadata": {},
   "source": [
    "## Exploratory Analysis Takeaways\n",
    "From these initial findings, we find that it is necessary to perform normalization of the data to allow for comparisons between labs. Doing normalization, however, can take a number of forms, which is the primary difference in the statistical analyses presented next. In the first, we perform explicit normalization using a combination of spike-in normalization and latent \"gene expression\" extraction followed by t-tests. For GLMs, the nuisance parameters are explicitly added as variables to the model, thereby allowing us to look at the isolated effect of the genes. In the last, we similarly perform \"implicit normalization\" by just analyzing the ranks of the data."
   ]
  },
  {
   "cell_type": "markdown",
   "id": "97e54b7e",
   "metadata": {},
   "source": [
    "# Normalization\n",
    "We need to do some normalization with the bacterial spike-ins. According to the following two sources:\n",
    "\n",
    "- https://support.bioconductor.org/p/49150/\n",
    "- https://bioinformatics.mdanderson.org/MicroarrayCourse/Lectures/ma07b.pdf\n",
    "\n",
    "Two common normalization techniques are spike-in normalizatio and quantile normalization. The former doesn't really involve much assumption beyond the experimental consistency of spike-in amounts. Quantile normalization assumes that most genes are *not* differentially expressed (that only a handful are). We use the former herein.\n",
    "\n",
    "## Spike-In Normalization\n",
    "Given the consistency of the spike in *per lab*, however, it seems plausible to actually go ahead with this spike-in normalization. To do so, we count gene expressed in a \"normalized space\" based on the total amount of control genes expressed:\n",
    "\n",
    "$$ \\widehat{g} = \\frac{g}{\\frac{1}{|\\{c_g\\}|} \\sum {c_g}} $$\n",
    "\n",
    "Where $g$ is some gene of interest and $c_g$ the set of controls."
   ]
  },
  {
   "cell_type": "code",
   "execution_count": null,
   "id": "91292995",
   "metadata": {},
   "outputs": [],
   "source": [
    "with open(\"data/brain.pkl\", \"rb\") as f:\n",
    "    dataset = pickle.load(f)"
   ]
  },
  {
   "cell_type": "code",
   "execution_count": null,
   "id": "dfa66c3f",
   "metadata": {},
   "outputs": [],
   "source": [
    "expression = dataset[\"expression\"]\n",
    "genes = dataset[\"genes\"]\n",
    "samples = dataset[\"samples\"]"
   ]
  },
  {
   "cell_type": "code",
   "execution_count": null,
   "id": "f66f5aad",
   "metadata": {},
   "outputs": [],
   "source": [
    "nan_genes = genes[genes[\"chrom\"].isna()].index.values # genes not associated with chromosomes\n",
    "control_genes = [gene for gene in nan_genes if gene.startswith(\"AFFX\")]\n",
    "human_genes = [gene for gene in genes.index.values if gene not in control_genes]\n",
    "print(control_genes)"
   ]
  },
  {
   "cell_type": "code",
   "execution_count": null,
   "id": "602464e9",
   "metadata": {},
   "outputs": [],
   "source": [
    "lab_names = [\"Davis\", \"Michigan\", \"Irvine\"]\n",
    "lab_to_data = {}\n",
    "for lab in lab_names:\n",
    "    lab_patients = samples[samples[\"lab\"] == lab].index\n",
    "    lab_to_data[lab] = expression.loc[lab_patients]"
   ]
  },
  {
   "cell_type": "code",
   "execution_count": null,
   "id": "a15ec5dc",
   "metadata": {},
   "outputs": [],
   "source": [
    "lab_to_normalized_data = {}\n",
    "for lab in lab_names:\n",
    "    row_means = lab_to_data[lab][control_genes].mean(axis=1)\n",
    "    normalized = lab_to_data[lab].div(row_means, axis=0)\n",
    "    lab_to_normalized_data[lab] = normalized"
   ]
  },
  {
   "cell_type": "markdown",
   "id": "040ea9dc",
   "metadata": {},
   "source": [
    "# Investigating Combining Versions\n",
    "We can perform this analysis in two ways: take the labs separately and treat them as separate experiments for the analysis. Or combine them and do the analysis on this combined dataset. The rationale behind the latter is to view the measurements of each labs as noisy representations of the \"true\" gene expressions. Before doing so, one thing that differed between otherwise seeming \"replicates\" of samples between labs was the version of the chip that was used. We first wish to investigate if there is any systematic difference between the versions by visualizing paired samples (i.e. samples that are otherwise replicates) after projecting them to a lower dimensional space via PCA."
   ]
  },
  {
   "cell_type": "code",
   "execution_count": null,
   "id": "dec20a12",
   "metadata": {},
   "outputs": [],
   "source": [
    "michigan = lab_to_normalized_data[\"Michigan\"]\n",
    "davis = lab_to_normalized_data[\"Davis\"]\n",
    "irvine = lab_to_normalized_data[\"Irvine\"]"
   ]
  },
  {
   "cell_type": "code",
   "execution_count": null,
   "id": "5f647bf7",
   "metadata": {},
   "outputs": [],
   "source": [
    "v1_samples = samples[samples[\"chip.version\"] == \"v1\"]\n",
    "v2_samples = samples[samples[\"chip.version\"] == \"v2\"]"
   ]
  },
  {
   "cell_type": "code",
   "execution_count": null,
   "id": "26374ae1",
   "metadata": {},
   "outputs": [],
   "source": [
    "# WARNING: very inscrutable code ahead: this is to basically \"tie together\" the patients into tuples (which is annoyingly complicated\n",
    "# cause some of the data were dropped from the Irvine lab)\n",
    "\n",
    "patient_ids = [f\"patient_{str(patient_idx).rjust(2, '0')}\" for patient_idx in range(1, 11)]\n",
    "\n",
    "lab_tuple_labels = set([\"Davis\", \"Irvine\", \"Michigan\"])\n",
    "patient_id_tuples = {}\n",
    "\n",
    "for patient_id in patient_ids:\n",
    "    patient_samples = samples[samples[\"patient\"] == patient_id]\n",
    "    \n",
    "    cur_tuple_labels = copy.deepcopy(lab_tuple_labels)\n",
    "    cur_patient_tuple = []\n",
    "    \n",
    "    patient_tuples = []\n",
    "    for _, patient_sample in patient_samples.iterrows():  \n",
    "        if patient_sample[\"lab\"] not in cur_tuple_labels:\n",
    "            patient_tuples.append(cur_patient_tuple)\n",
    "            cur_tuple_labels = copy.deepcopy(lab_tuple_labels)\n",
    "            cur_patient_tuple = []\n",
    "        \n",
    "        cur_tuple_labels.remove(patient_sample[\"lab\"])\n",
    "        cur_patient_tuple.append(patient_sample)\n",
    "    if len(cur_patient_tuple) > 0:\n",
    "        patient_tuples.append(cur_patient_tuple)\n",
    "    patient_id_tuples[patient_id] = patient_tuples"
   ]
  },
  {
   "cell_type": "code",
   "execution_count": null,
   "id": "e08b8c8a",
   "metadata": {},
   "outputs": [],
   "source": [
    "v1_data, v2_data = [], []\n",
    "for patient_id in patient_id_tuples:\n",
    "    for paired_tuples in patient_id_tuples[patient_id]:\n",
    "        v1_subset, v2_subset = [], []\n",
    "        for sample in paired_tuples:\n",
    "            if sample[\"chip.version\"] == \"v1\":\n",
    "                v1_subset.append(sample)\n",
    "            else:\n",
    "                v2_subset.append(sample)\n",
    "        v1_data.append(v1_subset)\n",
    "        v2_data.append(v2_subset)"
   ]
  },
  {
   "cell_type": "code",
   "execution_count": null,
   "id": "c112a8e0",
   "metadata": {},
   "outputs": [],
   "source": [
    "from sklearn.decomposition import PCA"
   ]
  },
  {
   "cell_type": "code",
   "execution_count": null,
   "id": "a09194c0",
   "metadata": {},
   "outputs": [],
   "source": [
    "lab_to_reduced_data = {}\n",
    "for lab in lab_to_normalized_data:\n",
    "    pca = PCA(n_components=2)\n",
    "    reduced_data = pca.fit_transform(lab_to_normalized_data[lab][human_genes].values)\n",
    "    lab_to_reduced_data[lab] = pd.DataFrame(reduced_data, columns = ['pc1','pc2'], index = lab_to_normalized_data[lab].index)"
   ]
  },
  {
   "cell_type": "code",
   "execution_count": null,
   "id": "02d5a808",
   "metadata": {},
   "outputs": [],
   "source": [
    "colors = [\"b\",\"g\",\"r\",\"c\",\"m\",\"y\",\"k\",\"w\"]\n",
    "for i, (v1_samples, v2_samples) in enumerate(zip(v1_data[8:16], v2_data[8:16])):    \n",
    "    for v1_sample in v1_samples:\n",
    "        x, y = lab_to_reduced_data[v1_sample[\"lab\"]].loc[v1_sample.name]\n",
    "        plt.scatter(x, y, color=colors[i], marker=\"o\")\n",
    "    for v2_sample in v2_samples:\n",
    "        x, y = lab_to_reduced_data[v2_sample[\"lab\"]].loc[v2_sample.name]\n",
    "        plt.scatter(x, y, color=colors[i], marker=\"x\")\n",
    "\n",
    "from matplotlib.lines import Line2D\n",
    "legend_elements = [\n",
    "    Line2D([0], [0], marker='o', color='k', markersize=5, label='V1'),\n",
    "    Line2D([0], [0], marker='x', color='k', markersize=5, label='V2'),\n",
    "]\n",
    "plt.legend(handles=legend_elements)\n",
    "\n",
    "plt.xlabel(r\"$\\mathrm{PC1}$\")\n",
    "plt.ylabel(r\"$\\mathrm{PC2}$\")\n",
    "plt.title(r\"$\\mathrm{PCs \\ For \\ V1 \\ vs \\ V2 \\ Samples}$\")"
   ]
  },
  {
   "cell_type": "markdown",
   "id": "8a2db4d0",
   "metadata": {},
   "source": [
    "This plot suggests that there are no systematic differences between the two version, which suggests that combining the samples is reasonable."
   ]
  },
  {
   "cell_type": "markdown",
   "id": "2cbb1cc5",
   "metadata": {},
   "source": [
    "# T-test Analysis\n",
    "We currently have normalized data from which we can analyze the difference in *probe expression* between males and females (and similarly for the brain regions), but recall that the true object of interest for comparison is the *gene expression*. We can currently only do this analysis in an obfuscated light, where the probe sets highlight differences that we then map back to the corresponding genes. It, however, makes sense to eliminate chip-level effects to uncover the latent \"gene expression\" and only then compare them across the subjects of interest.\n",
    "\n",
    "Specifically, recalling that each gene has several corresponding probes, for an array $i$, probe $j$, and gene $k$, we can model the measured expression as being:\n",
    "\n",
    "$$ Y_{ijk} = \\mu_{ik} + \\alpha_{jk} + \\epsilon_{ijk} $$\n",
    "\n",
    "Where:\n",
    "\n",
    "- $\\mu_{ik}$: \"True\" gene expression\n",
    "- $\\alpha_{jk}$: Probe affinity effect\n",
    "- $\\epsilon_{ijk}$: Noise\n",
    "\n",
    "We wish then to estimate $\\mu_{ik}$. Let's fix a gene $k$ for this discussion, from which we now wish to estimate $\\mu_i$. We estimate this using Tukey’s Median Polish algorithm, which breaks the above relation into:\n",
    "\n",
    "$$ Y_{ij} = \\mu + \\delta_i + \\alpha_j + \\epsilon_{ij} $$\n",
    "\n",
    "Where:\n",
    "\n",
    "- $\\mu + \\delta_i$: \"True\" gene expression\n",
    "- $\\alpha_{j}$: Probe affinity effect\n",
    "- $\\epsilon_{ij}$: Noise\n",
    "\n",
    "So, after running a Median Polish, we take our estimate to be: $\\widehat{\\mu_i} = \\widehat{\\mu} + \\widehat{\\delta_i}$"
   ]
  },
  {
   "cell_type": "code",
   "execution_count": null,
   "id": "9e5d999a",
   "metadata": {},
   "outputs": [],
   "source": [
    "lab_names = [\"Davis\", \"Michigan\", \"Irvine\"]\n",
    "lab_to_normalized_data = {}\n",
    "for lab in lab_names:\n",
    "    lab_patients = samples[samples[\"lab\"] == lab].index\n",
    "    raw_lab_expression = expression.loc[lab_patients]\n",
    "    control_means = raw_lab_expression[control_genes].mean(axis=1)\n",
    "    lab_to_normalized_data[lab] = raw_lab_expression.div(control_means, axis=0)[human_genes]"
   ]
  },
  {
   "cell_type": "code",
   "execution_count": null,
   "id": "10d2d592",
   "metadata": {},
   "outputs": [],
   "source": [
    "sort_dict = lambda unsorted_dict : {k: v for k, v in sorted(unsorted_dict.items(), key=lambda item: -item[1])}"
   ]
  },
  {
   "cell_type": "code",
   "execution_count": null,
   "id": "5e7a7cb5",
   "metadata": {},
   "outputs": [],
   "source": [
    "def pretty_print(d):\n",
    "    for k in d:\n",
    "        print(f\"{k} -> {d[k]}\")"
   ]
  },
  {
   "cell_type": "code",
   "execution_count": null,
   "id": "57ba7210",
   "metadata": {},
   "outputs": [],
   "source": [
    "def print_results(all_significant_probes):\n",
    "    significant_chromosomes = {}\n",
    "    significant_genes = {}\n",
    "    for probe in all_significant_probes:\n",
    "        chrom = genes.loc[probe][\"chrom\"]\n",
    "        gene = genes.loc[probe][\"sym\"]\n",
    "        \n",
    "        if chrom not in significant_chromosomes:\n",
    "            significant_chromosomes[chrom] = 0\n",
    "        if gene not in significant_genes:\n",
    "            significant_genes[gene] = 0\n",
    "        \n",
    "        significant_chromosomes[chrom] += 1\n",
    "        significant_genes[gene] += all_significant_probes[probe]\n",
    "    pretty_print(sort_dict(significant_genes))\n"
   ]
  },
  {
   "cell_type": "code",
   "execution_count": null,
   "id": "db54a074",
   "metadata": {},
   "outputs": [],
   "source": [
    "def median_polish(tbl, max_iterations=10, method='median'):\n",
    "    grand_effect = 0\n",
    "    median_row_effects = 0\n",
    "    median_col_effects = 0\n",
    "    row_effects = np.zeros(shape=tbl.shape[0])\n",
    "    col_effects = np.zeros(shape=tbl.shape[1])\n",
    "\n",
    "    for i in range(max_iterations):\n",
    "        if method == 'median':\n",
    "            row_medians = np.median(tbl  ,1) \n",
    "            row_effects += row_medians\n",
    "            median_row_effects = np.median(row_effects)\n",
    "        elif method == 'average':\n",
    "            row_medians = np.average(tbl  ,1) \n",
    "            row_effects += row_medians\n",
    "            median_row_effects = np.average(row_effects)\n",
    "        grand_effect += median_row_effects\n",
    "        row_effects -= median_row_effects\n",
    "        tbl -= row_medians[:,np.newaxis] \n",
    "\n",
    "        if method == 'median':\n",
    "            col_medians = np.median(tbl,0) \n",
    "            col_effects += col_medians\n",
    "            median_col_effects = np.median(col_effects)\n",
    "        elif method == 'average':\n",
    "            col_medians = np.average(tbl,0) \n",
    "            col_effects += col_medians\n",
    "            median_col_effects = np.average(col_effects)\n",
    "\n",
    "        tbl -= col_medians \n",
    "        grand_effect += median_col_effects\n",
    "\n",
    "    return grand_effect, col_effects, row_effects , tbl"
   ]
  },
  {
   "cell_type": "code",
   "execution_count": null,
   "id": "49f6c95c",
   "metadata": {},
   "outputs": [],
   "source": [
    "gene_syms = list(genes[\"sym\"].values)\n",
    "gene_to_probes = {}\n",
    "for gene_sym in gene_syms:\n",
    "    if gene_sym != gene_sym:\n",
    "        continue # skip nan case\n",
    "    gene_to_probes[gene_sym] = genes[genes[\"sym\"] == gene_sym].index.values"
   ]
  },
  {
   "cell_type": "code",
   "execution_count": null,
   "id": "83c8fb26",
   "metadata": {},
   "outputs": [],
   "source": [
    "lab_to_gene_data = {}\n",
    "\n",
    "for lab_name in lab_to_normalized_data:\n",
    "    lab = lab_to_normalized_data[lab_name]\n",
    "    gene_expressions = {}\n",
    "    for gene in gene_to_probes:\n",
    "        probe_cols = lab[gene_to_probes[gene]].values\n",
    "        grand_effect, col_effects, row_effects, tbl = median_polish(probe_cols)\n",
    "        gene_est = row_effects + grand_effect\n",
    "        gene_expressions[gene] = gene_est\n",
    "\n",
    "    lab_genes = pd.DataFrame.from_dict(gene_expressions)\n",
    "    lab_genes = lab_genes.set_index(lab.index)\n",
    "    lab_to_gene_data[lab_name] = lab_genes"
   ]
  },
  {
   "cell_type": "markdown",
   "id": "41ff2954",
   "metadata": {},
   "source": [
    "## T-test [Sex]\n",
    "We investigate first the differential expression of sex from the gene data extracted above. Such gene expressions are analyzed *per lab*, which we then analyze for replication. That is, from the individual analyses, we see which genes are found repeatedly across the different labs, which gives us greater confidence in such findings. This analysis is performed with a simply independent t-test using a Benjamini-Hochberg procedure to control the FDR to 0.11. Note that we are using a relatively high FDR value because we wish to find all plausible candidates for further investigation. \n",
    "\n",
    "To provide further validation, we additionally investigate these results if the data are further split by the brain region. That is, we then compare ACC males vs. ACC females, DLPF males vs. DLPF females, and so on. Given the reduced sample size in doing this splitting, the power of this procedure is reduced, but it serves as a means of finding a more conservative set of genes for further exploration."
   ]
  },
  {
   "cell_type": "code",
   "execution_count": null,
   "id": "c0c60d45",
   "metadata": {},
   "outputs": [],
   "source": [
    "def perform_t_analysis(combined_analysis):\n",
    "    for region_idx, brain_region in enumerate([\"A.C. cortex\", \"cerebellum\", \"D.L.P.F. cortex\"]):\n",
    "        all_significant_genes = {}\n",
    "        for lab_name in lab_to_gene_data:\n",
    "            gene_data = lab_to_gene_data[lab_name]\n",
    "            lab_patients = samples[samples[\"lab\"] == lab_name]\n",
    "\n",
    "            male_patients = lab_patients[lab_patients[\"sex\"] == \"male\"]\n",
    "            female_patients = lab_patients[lab_patients[\"sex\"] == \"female\"]\n",
    "\n",
    "            if combined_analysis:\n",
    "                male_patients = male_patients.index\n",
    "                female_patients = female_patients.index\n",
    "            else:\n",
    "                male_patients = male_patients[male_patients[\"region\"] == brain_region].index\n",
    "                female_patients = female_patients[female_patients[\"region\"] == brain_region].index\n",
    "\n",
    "            male_data = gene_data.loc[male_patients].values\n",
    "            female_data = gene_data.loc[female_patients].values\n",
    "\n",
    "            pvalues = scipy.stats.ttest_ind(male_data, female_data).pvalue\n",
    "            fdr_pvalues = statsmodels.stats.multitest.multipletests(pvalues, alpha=0.11, method='fdr_bh')\n",
    "            significant = np.where(fdr_pvalues[0])\n",
    "            ref_columns = gene_data.columns.values\n",
    "            significant_genes = ref_columns[significant[0]]\n",
    "\n",
    "            for significant_gene in significant_genes:\n",
    "                if significant_gene not in all_significant_genes:\n",
    "                    all_significant_genes[significant_gene] = 0\n",
    "                all_significant_genes[significant_gene] += 1    \n",
    "        \n",
    "        all_significant_chroms = {}\n",
    "        for significant_gene in all_significant_genes:\n",
    "            chrom = genes[genes[\"sym\"] == significant_gene][\"chrom\"].values[0]\n",
    "            if chrom not in all_significant_chroms:\n",
    "                all_significant_chroms[chrom] = []\n",
    "            all_significant_chroms[chrom].append(significant_gene)\n",
    "\n",
    "        if not combined_analysis or (combined_analysis and region_idx == 2):\n",
    "            pretty_print(all_significant_chroms)\n",
    "            pretty_print(sort_dict(all_significant_genes))\n",
    "            print(\"=============================================\")"
   ]
  },
  {
   "cell_type": "code",
   "execution_count": null,
   "id": "a5fc4d7d",
   "metadata": {},
   "outputs": [],
   "source": [
    "perform_t_analysis(combined_analysis=True)"
   ]
  },
  {
   "cell_type": "code",
   "execution_count": null,
   "id": "7460b6cb",
   "metadata": {},
   "outputs": [],
   "source": [
    "perform_t_analysis(combined_analysis=False)"
   ]
  },
  {
   "cell_type": "markdown",
   "id": "6183bd9d",
   "metadata": {},
   "source": [
    "## T-test [Brain Region]\n",
    "We repeat the procedure above, now instead using a dependent t-test, since each ACC and DLPF sample pair comes from the same patient."
   ]
  },
  {
   "cell_type": "code",
   "execution_count": null,
   "id": "2b3f104b",
   "metadata": {},
   "outputs": [],
   "source": [
    "all_significant_genes = {}\n",
    "for lab_name in lab_to_gene_data:\n",
    "    gene_data = lab_to_gene_data[lab_name]\n",
    "    lab_patients = samples[samples[\"lab\"] == lab_name]\n",
    "\n",
    "    acc_patients = lab_patients[lab_patients[\"region\"] == \"A.C. cortex\"].index\n",
    "    dlpf_patients = lab_patients[lab_patients[\"region\"] == \"D.L.P.F. cortex\"].index\n",
    "\n",
    "    if lab_name == \"Davis\": # have to eliminate some samples since data is missing\n",
    "        full_pairs = {\"03\", \"04\", \"08\", \"10\"}\n",
    "        acc_patients = [a for a in acc_patients.values if a.split(\"_\")[0] in full_pairs]\n",
    "        dlpf_patients = [d for d in dlpf_patients.values if d.split(\"_\")[0] in full_pairs]\n",
    "\n",
    "    acc_data = gene_data.loc[acc_patients].values\n",
    "    dlpf_data = gene_data.loc[dlpf_patients].values\n",
    "\n",
    "    pvalues = scipy.stats.ttest_rel(acc_data, dlpf_data).pvalue\n",
    "    fdr_pvalues = statsmodels.stats.multitest.multipletests(pvalues, alpha=0.0001, method='fdr_bh')\n",
    "    significant = np.where(fdr_pvalues[0])\n",
    "    ref_columns = gene_data.columns.values\n",
    "    significant_genes = ref_columns[significant[0]]\n",
    "\n",
    "    for significant_gene in significant_genes:\n",
    "        if significant_gene not in all_significant_genes:\n",
    "            all_significant_genes[significant_gene] = 0\n",
    "        all_significant_genes[significant_gene] += 1    \n",
    "\n",
    "pretty_print(sort_dict(all_significant_genes))"
   ]
  },
  {
   "cell_type": "markdown",
   "id": "fa511018",
   "metadata": {},
   "source": [
    "The brain region findings seem to be highly spurious given the tremendous differential expression found between the ACC in the DLPF in the Michigan data but complete lack thereof in other labs' datasets. This is further compounded by the fact we had to reduce the FDR control to 0.0001 to restrict the total findings to a reasonable number. Such a disparity leads us to believe these results are spurious and should *not* be trusted. We instead opt to suggest the results found in the latter two analyses due to their replication."
   ]
  },
  {
   "cell_type": "markdown",
   "id": "6b4bd0d2",
   "metadata": {},
   "source": [
    "## T-test Takeaways\n",
    "Therefore, from the t-test analysis, we find the following genes, along with the corresponding replications. Italicized results also significant in combined lab analysis:\n",
    "\n",
    "**Sex**\n",
    "\n",
    "| Gene | Replications |\n",
    "| --- | --- |\n",
    "| *KDM5D* | 3 |\n",
    "| *DDX3Y* | 3 |\n",
    "| *RPS4Y1* | 3 |\n",
    "| USP9Y | 2 |\n",
    "| XIST | 2 |\n",
    "| UTY | 1 |\n",
    "\n",
    "**Region**\n",
    "\n",
    "| Gene | Replications |\n",
    "| --- | --- |\n",
    "| FLOT2  | 1  |\n",
    "| UBR4  | 1  |\n",
    "| GALT  | 1  |"
   ]
  },
  {
   "cell_type": "markdown",
   "id": "9a28d578",
   "metadata": {},
   "source": [
    "# GLM Analysis"
   ]
  },
  {
   "cell_type": "markdown",
   "id": "deec6175",
   "metadata": {},
   "source": [
    "Another test we ran was done by using generalized linear models (GLMs). When doing prelimary research on the topic of differential expressions we found an R package called DESeq2. This package has over 27000 citations and it uses GLMs on the raw count data, along with more technical processes to get differentially expressed genes.  Therefore, since it seems that GLMs are a well precedented method in the bioinformatics community we decided to try our own GLM model to test the research questions.\n",
    "\n",
    "As for the specifics, we ran a GLM on the original dataset with a gaussian family and canonical link. For the formula we use gene_expression ~ \\[variable we are looking at\\] + lab + chip.version + constant. The lab and chip version were added to control for any confounding they might have since we are still using the original dataset. Therefore, this method can also be used as a sanity check for making sure our normalization works as desired. If the results from the GLM and t-test analyses concur, then we have more confidence in both our results and techniques."
   ]
  },
  {
   "cell_type": "markdown",
   "id": "cd17b451",
   "metadata": {},
   "source": [
    "## GLM [Sex]\n",
    "For the males and females split, we ran a GLM on each gene and found the p-value for the sex variable. We then ran the Bonferroni family-wise error rate correction with $\\alpha = .05$ and got 2 genes that are significant: DDX3Y and RPS4Y1. We choose to use a Bonferroni correction due to its conservative nature. Since GLMs are well precedented and the Bonferroni procedure is a very conserative correction, we can be very confident that the findings we get for our GLMs are worth looking into."
   ]
  },
  {
   "cell_type": "code",
   "execution_count": null,
   "id": "97e3bc70",
   "metadata": {},
   "outputs": [],
   "source": [
    "rda = pyreadr.read_r('data/brain.rda')\n",
    "expression = rda[\"expression\"]\n",
    "genes = rda[\"genes\"]\n",
    "samples = rda[\"samples\"]\n",
    "\n",
    "norm_data = pd.read_csv(\"data/normalized_genes.csv\")\n",
    "no_bact_cols = expression.loc[:,[not x for x in genes[\"chrom\"].isna().to_numpy()]].columns"
   ]
  },
  {
   "cell_type": "code",
   "execution_count": null,
   "id": "ac7d5e8d",
   "metadata": {},
   "outputs": [],
   "source": [
    "glm_no_normal = expression.copy()\n",
    "glm_no_normal[\"sex\"] = samples[\"sex\"]\n",
    "glm_no_normal[\"region\"] = samples[\"region\"]\n",
    "glm_no_normal[\"lab\"] = samples[\"lab\"]\n",
    "glm_no_normal[\"chip.version\"] = samples[\"chip.version\"]\n",
    "glm_no_normal[\"patient\"] = samples[\"patient\"]\n",
    "formula = \"38355_at~sex+region+lab+chip.version\"\n",
    "columns = [\"sex\",\"lab\",\"chip.version\"]\n",
    "dummies = pd.get_dummies(data=glm_no_normal[columns], columns=columns, drop_first=True)\n",
    "dummies = sm.add_constant(dummies)\n",
    "dummies\n",
    "pvals_m_f = []\n",
    "#a = smf.glm(formula=formula, data=glm_no_normal, family=sm.families.Gamma(sm.families.links.log())).fit()\n",
    "for i in no_bact_cols:\n",
    "    a = sm.GLM(endog=glm_no_normal[i], exog=dummies, family=sm.families.Gaussian()).fit()#sm.families.NegativeBinomial(sm.families.links.log())).fit()\n",
    "    pvals_m_f.append((a.pvalues[1],i))"
   ]
  },
  {
   "cell_type": "code",
   "execution_count": null,
   "id": "10c231da",
   "metadata": {},
   "outputs": [],
   "source": [
    "for x in np.array(pvals_m_f)[multipletests([x[0] for x in pvals_m_f], alpha=.05, method=\"bonferroni\")[0]]:\n",
    "    print(genes.loc[x[1]][\"sym\"])"
   ]
  },
  {
   "cell_type": "markdown",
   "id": "c63ba781",
   "metadata": {},
   "source": [
    "## GLM [Brain Region]\n",
    "For the region split, we ran a GLM on each gene and found the p-value for the region variable. We then ran the Bonferroni family-wise error rate correction with $\\alpha = .05$ and got 4 genes that are significant: CABP1, CARTPT, SCN1B, COX7A1."
   ]
  },
  {
   "cell_type": "code",
   "execution_count": null,
   "id": "078ea77f",
   "metadata": {},
   "outputs": [],
   "source": [
    "glm_region = expression.copy()\n",
    "glm_region[\"sex\"] = samples[\"sex\"]\n",
    "glm_region[\"region\"] = samples[\"region\"]\n",
    "glm_region[\"lab\"] = samples[\"lab\"]\n",
    "glm_region[\"chip.version\"] = samples[\"chip.version\"]\n",
    "glm_region[\"patient\"] = samples[\"patient\"]\n",
    "glm_region=glm_region.loc[[x in [\"A.C. cortex\", \"D.L.P.F. cortex\"] for x in glm_region[\"region\"]]]\n",
    "columns = [\"region\",\"lab\",\"chip.version\"]\n",
    "dummies = pd.get_dummies(data=glm_region[columns], columns=columns, drop_first=True)\n",
    "dummies = sm.add_constant(dummies)\n",
    "dummies = dummies.drop([\"region_cerebellum\"], axis=1)\n",
    "pvals_region = []\n",
    "#a = smf.glm(formula=formula, data=glm_no_normal, family=sm.families.Gamma(sm.families.links.log())).fit()\n",
    "for i in no_bact_cols:\n",
    "    a = sm.GLM(endog=glm_region[i], exog=dummies, family=sm.families.Gaussian()).fit()#sm.families.NegativeBinomial(sm.families.links.log())).fit()\n",
    "    pvals_region.append((a.pvalues[1],i))"
   ]
  },
  {
   "cell_type": "code",
   "execution_count": null,
   "id": "94312ea3",
   "metadata": {},
   "outputs": [],
   "source": [
    "for x in np.array(pvals_region)[multipletests([x[0] for x in pvals_region], alpha=.05, method=\"bonferroni\")[0]]:\n",
    "    print(genes.loc[x[1]][\"sym\"])"
   ]
  },
  {
   "cell_type": "markdown",
   "id": "ebc0b1d1",
   "metadata": {},
   "source": [
    "# Permutation Test Analysis\n",
    "We also ran a Monte-Carlo permutation test on the difference of means on our research questions using the normalized data. Given a gene, if under the null hypothesis males and females (or A.C.C. vs D.L.P.F.C.) have no differences, then if we aggregate the male and female data points and go through all possible permutations of male/female (A.C.C./D.L.P.F.C.) assignment, then we can see how unlikely our found difference in means was. However, since we have many genes and many samples for each gene, going through all possible permutations is computationally expensive. Thus, we only run 1000 random permutations and get our p-value from these permutations. It is known that the standard deviation of this is $\\sqrt{\\frac{\\hat{p}(1-\\hat{p})}{1000}} \\leq \\sqrt{\\frac{.5\\cdot.5}{1000}} \\approx .0158$, which we deemed acceptable due to the leniency we have been given to find differentably expressed genes."
   ]
  },
  {
   "cell_type": "code",
   "execution_count": null,
   "id": "81092391",
   "metadata": {},
   "outputs": [],
   "source": [
    "def perm(data1, data2, runs, test_stat):\n",
    "    '''Does a Monte Carlo permutation test'''\n",
    "    count = 0\n",
    "    for i in range(runs):\n",
    "        total_data = np.concatenate((data1, data2))\n",
    "        perm_data1 = np.random.choice(total_data, len(data1))\n",
    "        perm_data2 = np.setdiff1d(total_data, perm_data1)\n",
    "        if test_stat(perm_data1, perm_data2) > test_stat(data1, data2):\n",
    "            count += 1\n",
    "    p_hat = count/runs\n",
    "    return (p_hat, np.sqrt((p_hat*(1-p_hat))/runs)) #p_hat and std_dev returned\n",
    "\n",
    "def perm_multi(a):\n",
    "    '''Does a Monte Carlo permutation test, but written so that we can use multiprocessing'''\n",
    "    data1, data2, runs, test_stat, col = a\n",
    "    count = 0\n",
    "    for i in range(runs):\n",
    "        total_data = np.concatenate((data1, data2))\n",
    "        perm_data1 = np.random.choice(total_data, len(data1))\n",
    "        perm_data2 = np.setdiff1d(total_data, perm_data1)\n",
    "        if test_stat(perm_data1, perm_data2) > test_stat(data1, data2):\n",
    "            count += 1\n",
    "    p_hat = count/runs\n",
    "    return (p_hat, np.sqrt((p_hat*(1-p_hat))/runs), col) #p_hat, std_dev, and column name returned"
   ]
  },
  {
   "cell_type": "markdown",
   "id": "90d0458b",
   "metadata": {},
   "source": [
    "## Permutation Test [Sex]\n",
    "When running our Monte-Carlo permutation tests for male vs. female, using the Benjamini-Hochberg false discovery rate correction with $\\alpha = .1$, we got the following 5 differentiably expressed genes: UTY, USP9Y, KDM5D, DDX3Y, RPS4Y1."
   ]
  },
  {
   "cell_type": "code",
   "execution_count": null,
   "id": "cb50ecbe",
   "metadata": {},
   "outputs": [],
   "source": [
    "males = norm_data.loc[norm_data[\"rownames\"].isin(((samples[\"sex\"]==\"male\").index[(samples[\"sex\"]==\"male\")]))]\n",
    "females = norm_data.loc[norm_data[\"rownames\"].isin(((samples[\"sex\"]==\"female\").index[(samples[\"sex\"]==\"female\")]))]\n",
    "columns = norm_data.columns.to_numpy()[1:]"
   ]
  },
  {
   "cell_type": "code",
   "execution_count": null,
   "id": "e45db558",
   "metadata": {},
   "outputs": [],
   "source": [
    "max_pool = 8\n",
    "arrs = [(males[col], females[col],1000, lambda x,y: abs(np.mean(x) - np.mean(y)), col) for col in columns]\n",
    "with Pool(max_pool) as p:\n",
    "    sex_outputs = list(tqdm(p.imap(perm_multi,arrs),total=len(arrs)))"
   ]
  },
  {
   "cell_type": "code",
   "execution_count": null,
   "id": "dd585d47",
   "metadata": {},
   "outputs": [],
   "source": [
    "sex_outputs.sort(key=lambda x: x[0])\n",
    "for x in np.array(sex_outputs)[multipletests([x[0] for x in sex_outputs], alpha=.1, method=\"fdr_bh\")[0]]:\n",
    "    print(x[2])"
   ]
  },
  {
   "cell_type": "markdown",
   "id": "208a14ec",
   "metadata": {},
   "source": [
    "## Permutation Test [Brain Region]\n",
    "When running our Monte-Carlo permutation tests for A.C. cortex vs. D.L.P.F. cortex, using the Benjamini-Hochberg false discovery rate correction with $\\alpha = .1$, we got the following 10 differentiably expressed genes: ZNF609, DAPK3, CARTPT, AP1S1, ZYX, NDUFS8, CAMTA1, CCDC106, SLC9A3R2, RHBDD3. While these only share 1 common gene with the GLM model, we will note that the others declared significant in the GLM model were still among the genes with the smallest $\\hat{p}$ with the largest of them having a $\\hat{p}$ of $.015$."
   ]
  },
  {
   "cell_type": "code",
   "execution_count": null,
   "id": "3eb5629d",
   "metadata": {},
   "outputs": [],
   "source": [
    "acc = norm_data.loc[norm_data[\"rownames\"].isin(((samples[\"region\"]==\"A.C. cortex\").index[(samples[\"region\"]==\"A.C. cortex\")]))]\n",
    "dlpfc = norm_data.loc[norm_data[\"rownames\"].isin(((samples[\"region\"]==\"D.L.P.F. cortex\").index[(samples[\"region\"]==\"D.L.P.F. cortex\")]))]"
   ]
  },
  {
   "cell_type": "code",
   "execution_count": null,
   "id": "0c27d843",
   "metadata": {},
   "outputs": [],
   "source": [
    "max_pool = 8\n",
    "arrs = [(acc[col], dlpfc[col],1000, lambda x,y: abs(np.mean(x) - np.mean(y)), col) for col in columns]\n",
    "with Pool(max_pool) as p:\n",
    "    region_outputs = list(tqdm(p.imap(perm_multi,arrs),total=len(arrs)))"
   ]
  },
  {
   "cell_type": "code",
   "execution_count": null,
   "id": "e418b08a",
   "metadata": {},
   "outputs": [],
   "source": [
    "region_outputs.sort(key=lambda x: x[0])\n",
    "for x in np.array(region_outputs)[multipletests([x[0] for x in region_outputs], alpha=.1, method=\"fdr_bh\")[0]]:\n",
    "    print(x[2])"
   ]
  },
  {
   "cell_type": "markdown",
   "id": "c7abbb7e",
   "metadata": {},
   "source": [
    "# Wilcoxon Rank Sum Test"
   ]
  },
  {
   "cell_type": "markdown",
   "id": "c99a8210",
   "metadata": {},
   "source": [
    "We consider a nonparametric statistical test method, the Wilcoxon rank sum test, which compares the population median of two samples. The null hypothesis is that the population distributions of female and male are the same. Next, we run the test in three different labs separately, and also run the test in combined data."
   ]
  },
  {
   "cell_type": "markdown",
   "id": "dd95364e",
   "metadata": {},
   "source": [
    "## Rank-Sum Test [Sex]\n",
    "We start with running the analysis separately for the labs, from which we find the following genes: DDX3Y and RPS4Y1"
   ]
  },
  {
   "cell_type": "code",
   "execution_count": null,
   "id": "3b0b8af7",
   "metadata": {},
   "outputs": [],
   "source": [
    "# Genes that stand out in davis\n",
    "data_female_Davis = data[(data['sex'] == 'female') & (data['lab'] == 'Davis')]\n",
    "data_male_Davis = data[(data['sex'] == 'male') & (data['lab'] == 'Davis')]\n",
    "p_gender_Davis_all = []\n",
    "p_gender_Davis_sign = []\n",
    "idx_gender_Davis = [] \n",
    "for i in range(12600):\n",
    "    p_value = ranksums(data_female_Davis.iloc[:,i], data_male_Davis.iloc[:,i]).pvalue\n",
    "    p_gender_Davis_all.append(p_value)\n",
    "    if p_value < 0.05:\n",
    "        p_gender_Davis_sign.append(p_value)\n",
    "        idx_gender_Davis.append(expression.columns[i])\n",
    "\n",
    "# Genes that stand out in irvine\n",
    "data_female_Irvine = data[(data['sex'] == 'female') & (data['lab'] == 'Irvine')]\n",
    "data_male_Irvine = data[(data['sex'] == 'male') & (data['lab'] == 'Irvine')]\n",
    "p_gender_Irvine_all = []\n",
    "p_gender_Irvine_sign = []\n",
    "idx_gender_Irvine = []\n",
    "for i in range(12600):\n",
    "    p_value = ranksums(data_female_Irvine.iloc[:,i], data_male_Irvine.iloc[:,i]).pvalue\n",
    "    p_gender_Irvine_all.append(p_value)\n",
    "    if p_value < 0.05:\n",
    "        p_gender_Irvine_sign.append(p_value)\n",
    "        idx_gender_Irvine.append(expression.columns[i])\n",
    "        \n",
    "# Genes that stand out in michigan\n",
    "data_female_Michigan = data[(data['sex'] == 'female') & (data['lab'] == 'Michigan')]\n",
    "data_male_Michigan = data[(data['sex'] == 'male') & (data['lab'] == 'Michigan')]\n",
    "p_gender_Michigan_all = []\n",
    "p_gender_Michigan_sign = []\n",
    "idx_gender_Michigan = []\n",
    "for i in range(12600):\n",
    "    p_value = ranksums(data_female_Michigan.iloc[:,i], data_male_Michigan.iloc[:,i]).pvalue\n",
    "    p_gender_Michigan_all.append(p_value)\n",
    "    if p_value < 0.05:\n",
    "        p_gender_Michigan_sign.append(p_value)\n",
    "        idx_gender_Michigan.append(expression.columns[i])\n",
    "\n",
    "# common genes\n",
    "# set(idx_gender_Davis) & set(idx_gender_Irvine) & set(idx_gender_Michigan)"
   ]
  },
  {
   "cell_type": "markdown",
   "id": "44ff9f29",
   "metadata": {},
   "source": [
    "Repeating the above in the combined data gives the same findings, namely DDX3Y and RPS4Y1"
   ]
  },
  {
   "cell_type": "code",
   "execution_count": null,
   "id": "046f3ed0",
   "metadata": {},
   "outputs": [],
   "source": [
    "data_female = data[data['sex'] == 'female']\n",
    "data_male = data[data['sex'] == 'male']\n",
    "p_gender_all = []\n",
    "p_gender_sign = []\n",
    "idx_gender = []\n",
    "for i in range(12600):\n",
    "    p_value = ranksums(data_female.iloc[:,i], data_male.iloc[:,i]).pvalue\n",
    "    p_gender_all.append(p_value)\n",
    "    if p_value < 0.05:\n",
    "        p_gender_sign.append(p_value)\n",
    "        idx_gender.append(expression.columns[i])\n",
    "# idx_gender"
   ]
  },
  {
   "cell_type": "code",
   "execution_count": null,
   "id": "1454927f",
   "metadata": {},
   "outputs": [],
   "source": [
    "# genes information\n",
    "print(genes.loc['38355_at']['sym'])\n",
    "print(genes.loc['41214_at']['sym'])"
   ]
  },
  {
   "cell_type": "markdown",
   "id": "5880fdd5",
   "metadata": {},
   "source": [
    "If we use the Bonferroni procedure with $α=0.1$, no gene stands out. The reason might be that the smallest p-value is not that significant (~0.001) over 12600 comparisons."
   ]
  },
  {
   "cell_type": "code",
   "execution_count": null,
   "id": "0fe01e00",
   "metadata": {},
   "outputs": [],
   "source": [
    "fdr_pvalues = multipletests(p_gender_all, alpha=0.1, method='bonferroni')\n",
    "significant = np.where(fdr_pvalues[0])"
   ]
  },
  {
   "cell_type": "markdown",
   "id": "7f027e4c",
   "metadata": {},
   "source": [
    "## Rank-Sum Test Takeaways [Sex]\n",
    "We find that the genes with less than 0.05 p-value in three labs simultaneously are the same as that in the combined data. These genes selected by the Wilcoxon rank sum test are consistent with that of the GLM method and t-test."
   ]
  },
  {
   "cell_type": "markdown",
   "id": "473da644",
   "metadata": {},
   "source": [
    "## Rank-Sum Test [Brain Region]\n",
    "Repeating the above for the brain region, we once again perform separate and combined analyses. The separate analysis finds no genes of significance."
   ]
  },
  {
   "cell_type": "code",
   "execution_count": null,
   "id": "7cb1549f",
   "metadata": {},
   "outputs": [],
   "source": [
    "# Genes that stand out in davis\n",
    "data_AC_Davis = data[(data['region'] == 'A.C. cortex') & (data['lab'] == 'Davis')]\n",
    "data_DLPF_Davis = data[(data['region'] == 'D.L.P.F. cortex') & (data['lab'] == 'Davis')]\n",
    "p_gender_Davis_all = []\n",
    "p_gender_Davis_sign = []\n",
    "idx_region_Davis = []\n",
    "for i in range(12600):\n",
    "    p_value = ranksums(data_AC_Davis.iloc[:,i], data_DLPF_Davis.iloc[:,i]).pvalue\n",
    "    p_gender_Davis_all.append(p_value)\n",
    "    if p_value < 0.1:\n",
    "        p_gender_Davis_sign.append(p_value)\n",
    "        idx_region_Davis.append(expression.columns[i])\n",
    "\n",
    "# Genes that stand out in irvine\n",
    "data_AC_Irvine = data[(data['region'] == 'A.C. cortex') & (data['lab'] == 'Irvine')]\n",
    "data_DLPF_Irvine = data[(data['region'] == 'D.L.P.F. cortex') & (data['lab'] == 'Irvine')]\n",
    "p_gender_Irvine_all = []\n",
    "p_gender_Irvine_sign = []\n",
    "idx_region_Irvine = []\n",
    "for i in range(12600):\n",
    "    p_value = ranksums(data_AC_Irvine.iloc[:,i], data_DLPF_Irvine.iloc[:,i]).pvalue\n",
    "    p_gender_Irvine_all.append(p_value)\n",
    "    if p_value < 0.1:\n",
    "        p_gender_Irvine_sign.append(p_value)\n",
    "        idx_region_Irvine.append(expression.columns[i])\n",
    "\n",
    "# Genes that stand out in michigan\n",
    "data_AC_Michigan = data[(data['region'] == 'A.C. cortex') & (data['lab'] == 'Michigan')]\n",
    "data_DLPF_Michigan = data[(data['region'] == 'D.L.P.F. cortex') & (data['lab'] == 'Michigan')]\n",
    "p_gender_Michigan_all = []\n",
    "p_gender_Michigan_sign = []\n",
    "idx_region_Michigan = []\n",
    "for i in range(12600):\n",
    "    p_value = ranksums(data_AC_Michigan.iloc[:,i], data_DLPF_Michigan.iloc[:,i]).pvalue\n",
    "    p_gender_Michigan_all.append(p_value)\n",
    "    if p_value < 0.1:\n",
    "        p_gender_Michigan_sign.append(p_value)\n",
    "        idx_region_Michigan.append(expression.columns[i])\n",
    "        \n",
    "# common genes\n",
    "# set(idx_region_Davis) & set(idx_region_Irvine) & set(idx_region_Michigan)"
   ]
  },
  {
   "cell_type": "markdown",
   "id": "7b72e907",
   "metadata": {},
   "source": [
    "Repeating the above in the combined data gives the findings that are consistent with the GLM findings, namely CABP1, CARTPT, SCN1B, and COX7A1. This, however, is prior to Bonferroni correction."
   ]
  },
  {
   "cell_type": "code",
   "execution_count": null,
   "id": "297389a4",
   "metadata": {},
   "outputs": [],
   "source": [
    "data_AC = data[data['region'] == 'A.C. cortex']\n",
    "data_DLPF = data[data['region'] == 'D.L.P.F. cortex']\n",
    "p_region_all = []\n",
    "p_region_sign = []\n",
    "idx_region = []\n",
    "for i in range(12600):\n",
    "    p_value = ranksums(data_AC.iloc[:,i], data_DLPF.iloc[:,i]).pvalue\n",
    "    p_region_all.append(p_value)\n",
    "    if p_value < 0.1:\n",
    "        p_region_sign.append(p_value)\n",
    "        idx_region.append(expression.columns[i])\n",
    "# idx_region"
   ]
  },
  {
   "cell_type": "code",
   "execution_count": null,
   "id": "958713d7",
   "metadata": {},
   "outputs": [],
   "source": [
    "# genes information\n",
    "print(genes.loc['34500_at']['sym'])\n",
    "print(genes.loc['35457_at']['sym'])\n",
    "print(genes.loc['38516_at']['sym'])\n",
    "print(genes.loc['39031_at']['sym'])"
   ]
  },
  {
   "cell_type": "markdown",
   "id": "fd1210af",
   "metadata": {},
   "source": [
    "If we use the Bonferroni procedure with $α=0.1$ similar to what we did for female and male data, no gene stands out."
   ]
  },
  {
   "cell_type": "code",
   "execution_count": null,
   "id": "957c0b6d",
   "metadata": {},
   "outputs": [],
   "source": [
    "fdr_pvalues = multipletests(p_gender_all, alpha=0.1, method='bonferroni')\n",
    "significant = np.where(fdr_pvalues[0])"
   ]
  },
  {
   "cell_type": "markdown",
   "id": "55205a25",
   "metadata": {},
   "source": [
    "## Rank-Sum Test Takeaways [Brain Region]\n",
    "There is no common gene that stands out in three different labs at the same time. For the test in combined data, we observe four genes with p-value lower than 0.1. These four genes are consistent with what we find in the GLM method."
   ]
  },
  {
   "cell_type": "markdown",
   "id": "71285780",
   "metadata": {},
   "source": [
    "# Conclusion\n",
    "From the above analysis, we have the following findings for genes we recommend you explore for understanding differential expression by sex followed by those for brain regions. Along with these suggestions, we give our confidences, which arise from the replication across the previously presented analyses. In the presented table, we abbreviate tests as follows:\n",
    "\n",
    "- **T**: t-test\n",
    "- **G**: GLM\n",
    "- **P**: permutation test\n",
    "- **R**: rank-sum test\n",
    "\n",
    "For all but the rank-sum test, we list the analysis in the below table if the corresponding gene was found to be significant (post-FDR control) with that test. Since the rank-sum test did not have any significant findings, we simply took the top 5 most significant findings.\n",
    "\n",
    "**Sex**\n",
    "\n",
    "| Gene | Confidence | Tests |\n",
    "| --- | --- | --- |\n",
    "| KDM5D | High | TP |\n",
    "| DDX3Y | High | TGRP |\n",
    "| RPS4Y1 | High | TGRP |\n",
    "| USP9Y | Medium | TP |\n",
    "| UTY | Medium | TP |\n",
    "| XIST | Medium | T |\n",
    "\n",
    "**Region**\n",
    "We repeat this for brain regions, but again emphasize that our confidence in the t-test analysis is far less in this instance given the great disparity observed between labs.\n",
    "\n",
    "| Gene | Confidence | Tests |\n",
    "| --- | --- | --- |\n",
    "| CABP1 | Medium | GR |\n",
    "| CARTPT | Medium | GR |\n",
    "| SCN1B | Medium | GR |\n",
    "| COX7A1 | Medium | GR |"
   ]
  }
 ],
 "metadata": {
  "jupytext": {
   "cell_metadata_filter": "tags,name,fig.align,warning,cache,-all",
   "main_language": "R",
   "notebook_metadata_filter": "-all"
  },
  "kernelspec": {
   "display_name": "Python 3 (ipykernel)",
   "language": "python",
   "name": "python3"
  },
  "language_info": {
   "codemirror_mode": {
    "name": "ipython",
    "version": 3
   },
   "file_extension": ".py",
   "mimetype": "text/x-python",
   "name": "python",
   "nbconvert_exporter": "python",
   "pygments_lexer": "ipython3",
   "version": "3.9.7"
  },
  "vscode": {
   "interpreter": {
    "hash": "97f4452dae6bdba237fd800176b85e526041526e1433dfb6b82689f83ea463b6"
   }
  }
 },
 "nbformat": 4,
 "nbformat_minor": 5
}

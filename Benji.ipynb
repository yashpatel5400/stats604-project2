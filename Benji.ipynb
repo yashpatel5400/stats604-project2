{
 "cells": [
  {
   "cell_type": "code",
   "execution_count": 1,
   "id": "5bf1e083",
   "metadata": {
    "vscode": {
     "languageId": "r"
    }
   },
   "outputs": [
    {
     "ename": "ERROR",
     "evalue": "Error in parse(text = x, srcfile = src): <text>:8:0: unexpected end of input\n6: date: \"2022-09-27\"\n7: ---\n  ^\n",
     "output_type": "error",
     "traceback": [
      "Error in parse(text = x, srcfile = src): <text>:8:0: unexpected end of input\n6: date: \"2022-09-27\"\n7: ---\n  ^\nTraceback:\n"
     ]
    }
   ],
   "source": [
    "---\n",
    "title: \"Gene Expression in the Brain\"\n",
    "output:\n",
    "  pdf_document: default\n",
    "  html_document: default\n",
    "date: \"2022-09-27\"\n",
    "---"
   ]
  },
  {
   "cell_type": "code",
   "execution_count": 5,
   "id": "ff3ef323",
   "metadata": {
    "name": "load_hidden",
    "tags": [
     "remove_input",
     "remove_output"
    ],
    "vscode": {
     "languageId": "r"
    },
    "warning": false
   },
   "outputs": [],
   "source": [
    "knitr::opts_chunk$set(echo = FALSE)\n",
    "\n",
    "\n",
    "#-------------------- INSTALL REQUIRED PACKAGES ---------------------\n",
    "# if (!requireNamespace(\"BiocManager\"))\n",
    "#     install.packages(\"BiocManager\")\n",
    "# BiocManager::install(c(\"limma\", \"edgeR\", \"Glimma\", \"org.Mm.eg.db\", \"gplots\", \"RColorBrewer\", \"NMF\", \"BiasedUrn\", \"DESeq2\"))\n",
    "\n",
    "#--------------------- LOAD PACKAGES ----------------\n",
    "suppressPackageStartupMessages({\n",
    "library(edgeR)\n",
    "library(limma)\n",
    "library(gplots)\n",
    "library(RColorBrewer)\n",
    "library(tidyverse)\n",
    "})"
   ]
  },
  {
   "cell_type": "markdown",
   "id": "47083957",
   "metadata": {},
   "source": [
    "<!-- %%%%%%%%%%%%%%%%%%%%%%%%%%%%%%%%%%%% 1. INTRODUCTION %%%%%%%%%%%%%%%%%%%%%%%%%%%%%\n",
    "%%%%%%%%%%%%%%%%%%%%%%%%%%%%%%%%%%%%%%%%%                 %%%%%%%%%%%%%%%%%%%%%%%%%%-->\n",
    "\n",
    "# 1. Abstract\n"
   ]
  },
  {
   "cell_type": "markdown",
   "id": "98527b12",
   "metadata": {
    "lines_to_next_cell": 0
   },
   "source": [
    "# 2. Exploratory Data Analysis"
   ]
  },
  {
   "cell_type": "code",
   "execution_count": 6,
   "id": "b2a54287",
   "metadata": {
    "cache": true,
    "lines_to_next_cell": 0,
    "vscode": {
     "languageId": "r"
    }
   },
   "outputs": [],
   "source": [
    "#---------------------  Read the data into R\n",
    "load(\"data/brain.rda\")\n",
    "\n",
    "expr = as.data.frame(expression)\n",
    "gen  = as.data.frame(genes) %>%\n",
    "          mutate(row_name = rownames(.), .before = sym)\n",
    "samp = as.data.frame(samples)\n",
    "samp$patient = as.factor(samp$patient)\n",
    "\n",
    "#-------------------- Normalized Gene data\n",
    "expr_g_form <- read.csv(\"data/normalized_genes.csv\",\n",
    "                        header = T, sep = \",\", check.names = FALSE) # genes\n",
    "expr_p_form <- read.csv(\"data/normalized_probes.csv\",\n",
    "                        header = T, sep = \",\", check.names = FALSE) # probes\n"
   ]
  },
  {
   "cell_type": "markdown",
   "id": "84f1e3b9",
   "metadata": {},
   "source": [
    "\n"
   ]
  },
  {
   "cell_type": "code",
   "execution_count": 7,
   "id": "7bf464c1",
   "metadata": {
    "lines_to_next_cell": 2,
    "name": "original data",
    "vscode": {
     "languageId": "r"
    }
   },
   "outputs": [],
   "source": [
    "#------------------- Inspecting data\n",
    "##### expression data ######\n",
    "## NA gene symbols\n",
    "genn_s <- is.na(gen$sym)\n",
    "genn_c <- is.na(gen$chrom)\n",
    "\n",
    "## Get rownames of NA genes\n",
    "row_name_NA <- gen[genn_s, \"row_name\"]\n",
    "\n",
    "## bacteria genes\n",
    "bact_gen <- expr %>%\n",
    "  dplyr::select(all_of(row_name_NA) | contains(\"AFFX\")) \n",
    "\n",
    "## Corrected genes (without bacteria)\n",
    "gen_cr <- gen[!(gen$row_name %in% names(bact_gen)), ]"
   ]
  },
  {
   "cell_type": "code",
   "execution_count": 8,
   "id": "83a95776",
   "metadata": {
    "lines_to_next_cell": 2,
    "name": "normalized data",
    "vscode": {
     "languageId": "r"
    }
   },
   "outputs": [],
   "source": [
    "# We can use row names of the `expression data` to identify source of lab for bacteria genes for normalization.\n",
    "\n",
    "#------------------- Inspecting data\n",
    "\n",
    "##### expression data ######\n",
    "gen_form <- gen %>%\n",
    "              filter(row_name %in% names(expr_p_form)[-1])\n",
    "\n",
    "\n",
    "## for probes             \n",
    "expr_p_formed <- expr_p_form[-1]\n",
    "rownames(expr_p_formed) <- rownames(samp)\n",
    "\n",
    "## for genes\n",
    "expr_g_formed <- expr_g_form[-1]\n",
    "rownames(expr_g_formed) <- rownames(samp)"
   ]
  },
  {
   "cell_type": "code",
   "execution_count": 9,
   "id": "d053b81e",
   "metadata": {
    "lines_to_next_cell": 0,
    "vscode": {
     "languageId": "r"
    }
   },
   "outputs": [],
   "source": [
    "#--------------- Remove bacteria genes\n",
    "## now remove bacteria genes and format the data as gene for row and sample for column\n",
    "expr_f0 <- as.data.frame(expr) %>%\n",
    "  dplyr::select(-(names(bact_gen))) %>%\n",
    "  t() %>%\n",
    "  as.data.frame()\n",
    "\n",
    "\n",
    "expr_f <-expr_p_formed %>%\n",
    "  t() %>%\n",
    "  as.data.frame()\n",
    "\n",
    "\n",
    "## for genes\n",
    "expr_g <-expr_g_formed %>%\n",
    "  t() %>%\n",
    "  as.data.frame()"
   ]
  },
  {
   "cell_type": "markdown",
   "id": "3ac4b93c",
   "metadata": {},
   "source": [
    "\n"
   ]
  },
  {
   "cell_type": "code",
   "execution_count": 10,
   "id": "64bd26c0",
   "metadata": {
    "lines_to_next_cell": 2,
    "vscode": {
     "languageId": "r"
    }
   },
   "outputs": [
    {
     "ename": "ERROR",
     "evalue": "Error in DGEList(expr_f0): could not find function \"DGEList\"\n",
     "output_type": "error",
     "traceback": [
      "Error in DGEList(expr_f0): could not find function \"DGEList\"\nTraceback:\n"
     ]
    }
   ],
   "source": [
    "## convert expr to DGEList object\n",
    "expr_DGE_0  <- DGEList(expr_f0)\n",
    "expr_DGE_1  <- expr_DGE_2 <- DGEList(expr_f)\n",
    "expr_DGE_g  <- expr_DGE_2 <- DGEList(expr_g)\n",
    "\n",
    "## add gene data\n",
    "expr_DGE_0$genes  <- gen_cr\n",
    "expr_DGE_1$genes  <- expr_DGE_2$genes <- gen_form\n",
    "\n",
    "\n",
    "# Add the group information into the DGEList\n",
    "expr_DGE_g$samples$group <- factor(samp$sex)\n",
    "expr_DGE_1$samples$group <- factor(samp$sex)\n",
    "expr_DGE_2$samples$group <- factor(str_replace_all(samp$region, \" \", \"\"))"
   ]
  },
  {
   "cell_type": "markdown",
   "id": "a2eea1d5",
   "metadata": {},
   "source": [
    "For a good experimental design for gene differential analysis, measurements have to be accurate. Due to uncertainty in measurements, there is the need for replication. The most common types of replications are biological and technical replications. Biology replication involves taking measurements mostly in the same lab and with same technology for several samples of the same cell, while technical replication deals with repeating identical labs and protocols for sequencing on a single sample. While replication fosters confidence in our analysis as it enables us to quantify uncertainty, it posses yet a potential problem in gene differential analysis. For example, technical replication, if exists, could confound the true gene expression differentiation or can cause expression for reasons unrelated to the levels of the expression. \n",
    "Thus, it is highly imperative to investigate the presence of variations arising from replications before conducting further statistical analysis. A statistical tool for doing such investigation is called Exploratory Data Analysis (EDA).   "
   ]
  },
  {
   "cell_type": "markdown",
   "id": "aabfc3b5",
   "metadata": {},
   "source": [
    "The dataset has technical replicates. Measurements were taken from three labs viz Michigan, Irvine and Davis. We first make examine the distribution of genes by Lab for box sexes (Fig 1 \\& 2) and the look at same for the ACC \\& DLPFC brain regions by lab (Fig 3 \\& 4)."
   ]
  },
  {
   "cell_type": "markdown",
   "id": "bf90ca91",
   "metadata": {},
   "source": [
    "***YUMENG'S CODES***  "
   ]
  },
  {
   "cell_type": "markdown",
   "id": "0ccc0c7c",
   "metadata": {},
   "source": [
    "We observe in Fig 1 \\& 2 that the distributions of the gene expressions vary by lab for both sexes. This is a clear indication of variability due to technical replication. Same story can be told about the distributions of the genes for the ACC \\& DLPFC brain regions. Further, we make a Multi-Dimensional Scale (MDS) plot to see how the various replicates cluster among each other for the 10 patients.     "
   ]
  },
  {
   "cell_type": "code",
   "execution_count": null,
   "id": "9d76a1ab",
   "metadata": {
    "fig.align": "center",
    "lines_to_next_cell": 0,
    "vscode": {
     "languageId": "r"
    }
   },
   "outputs": [],
   "source": [
    "#-------------- SAVE PLOTS\n",
    "#1. Open jpeg file\n",
    "#jpeg(\"plots/MDS pre.jpg\")\n",
    "# 2. Create the plot\n",
    "par(mar = c(9,5,3,8), xpd = T)\n",
    "col.patient <- c(rainbow(6), \"dodgerblue\", \"darkorange\", \"black\", \"brown\")[samp$patient]\n",
    "pch.region  <- c(1,4, 6)[samp$region]\n",
    "plotMDS(expr_DGE_0, col=col.patient, pch = pch.region, cex = 1.5,\n",
    "        xlab = \"Leading dim 1\",\n",
    "        ylab = \"Leading dim 2\")\n",
    "legend(\"topright\", inset = c(-0.36, 0.0),\n",
    "       legend=levels(samp$patient),\n",
    "       fill = unique(col.patient)\n",
    "       )\n",
    "legend(\"topright\", inset = c(0.4, 1.4),\n",
    "       legend=levels(samp$region),\n",
    "       pch=c(1,4, 6)\n",
    "       )\n",
    "title(\"MDS for technical variation (pre-normalization)\")\n",
    "\n",
    "# 3. Close the file\n",
    "#dev.off()"
   ]
  },
  {
   "cell_type": "markdown",
   "id": "8952d785",
   "metadata": {},
   "source": []
  },
  {
   "cell_type": "markdown",
   "id": "42d37248",
   "metadata": {},
   "source": [
    "Fig 5 show the first two dimensions of the MDS. The first dimension explains 35\\% while the second explains 23\\% of the total variation explained by the MDS. Clearly, there is significant sparsity for the replicates of each patient as the various measurements across the three labs are farther apart.   \n",
    " "
   ]
  },
  {
   "cell_type": "markdown",
   "id": "356a1c05",
   "metadata": {
    "lines_to_next_cell": 0
   },
   "source": [
    "The issue of variation due to technical replications is one that had left researches with serious decisions to make in the past years. Should the scientist throw the data away and start all over? Recent developments have provided a good solution to handle this problem viz Normalization. There have been several normalization techniques that scientists have employed in reducing technical variations including the use of housekeeping (control) genes as baseline or the expression level from a particular quantile of the distribution of gene expression values of each sample as well as using variance stabilizing transform from statistical modeling. We employ one of the Normalization techniques which would be discussed in the subsequent section and visualize the MDS plot post normalization in Fig 6."
   ]
  },
  {
   "cell_type": "code",
   "execution_count": null,
   "id": "5484795e",
   "metadata": {
    "fig.align": "center",
    "lines_to_next_cell": 2,
    "vscode": {
     "languageId": "r"
    }
   },
   "outputs": [],
   "source": [
    "#-------------- SAVE PLOTS\n",
    "#1. Open jpeg file\n",
    "#jpeg(\"plots/MDS post.jpg\")\n",
    "# 2. Create the plot\n",
    "#col.patient <- brewer.pal(n = 10, name = \"RdBu\")[samp$patient]\n",
    "#barplot(1:8, col = c(rainbow(6), \"dodgerblue\", \"darkorange\"))\n",
    "par(mar = c(9,5,3,8), xpd = T)\n",
    "col.patient <- c(rainbow(6), \"dodgerblue\", \"darkorange\", \"black\", \"brown\")[samp$patient]\n",
    "pch.region  <- c(1,4, 6)[samp$region]\n",
    "plotMDS(expr_DGE_1, col=col.patient, pch = pch.region, cex = 1.5,\n",
    "        xlab = \"Leading dim 1\",\n",
    "        ylab = \"Leading dim 2\")\n",
    "legend(\"topright\", inset = c(-0.36, 0.0),\n",
    "       legend=levels(samp$patient),\n",
    "       fill = unique(col.patient)\n",
    "       )\n",
    "legend(\"topright\", inset = c(0.4, 1.4),\n",
    "       legend=levels(samp$region),\n",
    "       pch=c(1,4, 6)\n",
    "       )\n",
    "title(\"MDS for technical variation (post normailization)\")\n",
    "# 3. Close the file\n",
    "#dev.off()\n"
   ]
  },
  {
   "cell_type": "markdown",
   "id": "a769b220",
   "metadata": {},
   "source": [
    "We observe that, normalizating the data has resulted in significant reduction in the variation due to technical replication (comparing Fig 5 and 6). This gives us some confidence in assessing the true gene differentiation as we perform the appropriate statistical analyses in the rest of the sections of this report.\n",
    "\n",
    "\n",
    "\n"
   ]
  },
  {
   "cell_type": "markdown",
   "id": "d3861030",
   "metadata": {},
   "source": []
  }
 ],
 "metadata": {
  "jupytext": {
   "cell_metadata_filter": "tags,name,fig.align,warning,cache,-all",
   "main_language": "R",
   "notebook_metadata_filter": "-all"
  },
  "kernelspec": {
   "display_name": "R",
   "language": "R",
   "name": "ir"
  },
  "language_info": {
   "codemirror_mode": "r",
   "file_extension": ".r",
   "mimetype": "text/x-r-source",
   "name": "R",
   "pygments_lexer": "r",
   "version": "4.1.3"
  }
 },
 "nbformat": 4,
 "nbformat_minor": 5
}

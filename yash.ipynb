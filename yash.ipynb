{
 "cells": [
  {
   "cell_type": "markdown",
   "metadata": {},
   "source": [
    "# STATS 604: Gene expression in the Brain\n",
    "## Team Members: Ben Agyare, Yumeng Wang, Jake Trauger, Yash Patel"
   ]
  },
  {
   "cell_type": "markdown",
   "metadata": {},
   "source": [
    "## Code Setup\n",
    "We start simply by loading in the data and organizing properties of subsequent interest."
   ]
  },
  {
   "cell_type": "code",
   "execution_count": 52,
   "metadata": {},
   "outputs": [
    {
     "name": "stderr",
     "output_type": "stream",
     "text": [
      "/var/folders/4j/yb1phr856mgf1c7fysrq3_6c0000gs/T/ipykernel_34592/1028753403.py:12: DeprecationWarning: Please use `gaussian_filter` from the `scipy.ndimage` namespace, the `scipy.ndimage.filters` namespace is deprecated.\n",
      "  from scipy.ndimage.filters import gaussian_filter\n"
     ]
    }
   ],
   "source": [
    "import pickle\n",
    "import copy\n",
    "import numpy as np\n",
    "import pandas as pd\n",
    "pd.set_option('display.max_columns', 200)\n",
    "import scipy.stats as stats\n",
    "import matplotlib.pyplot as plt\n",
    "import seaborn as sns\n",
    "import sys\n",
    "import collections\n",
    "import os\n",
    "from scipy.ndimage.filters import gaussian_filter\n",
    "import cv2\n",
    "from statsmodels.stats.multitest import multipletests\n",
    "import warnings\n",
    "warnings.filterwarnings('ignore')\n",
    "\n",
    "sns.set_style(\"whitegrid\")\n",
    "plt.rcParams['text.usetex'] = True\n",
    "plt.rcParams[\"axes.grid\"] = False\n",
    "blue, = sns.color_palette(\"muted\", 1)"
   ]
  },
  {
   "cell_type": "code",
   "execution_count": 10,
   "metadata": {},
   "outputs": [],
   "source": [
    "with open(\"data/brain.pkl\", \"rb\") as f:\n",
    "    dataset = pickle.load(f)"
   ]
  },
  {
   "cell_type": "code",
   "execution_count": 27,
   "metadata": {},
   "outputs": [],
   "source": [
    "expression = dataset[\"expression\"]\n",
    "genes = dataset[\"genes\"]\n",
    "samples = dataset[\"samples\"]"
   ]
  },
  {
   "cell_type": "markdown",
   "metadata": {},
   "source": [
    "## Normalization\n",
    "We need to do some normalization with the bacterial spike-ins. According to the following two sources:\n",
    "- https://support.bioconductor.org/p/49150/\n",
    "- https://bioinformatics.mdanderson.org/MicroarrayCourse/Lectures/ma07b.pdf\n",
    "two common normalization techniques are spike-in normalizatio and quantile normalization. The former doesn't really involve much assumption beyond the experimental consistency of spike-in amounts. Given that this itself could vary across labs, we should verify this behavior prior to applying spike-in normalization. Quantile normalization assumes that most genes are *not* differentially expressed (that only a handful are). "
   ]
  },
  {
   "cell_type": "markdown",
   "metadata": {},
   "source": [
    "### Spike-In Normalization\n",
    "Let's start by looking at the plausibility of this spike-in normalization technique."
   ]
  },
  {
   "cell_type": "code",
   "execution_count": 51,
   "metadata": {},
   "outputs": [
    {
     "name": "stdout",
     "output_type": "stream",
     "text": [
      "['AFFX-BioB-3_at', 'AFFX-BioB-3_st', 'AFFX-BioB-5_at', 'AFFX-BioB-5_st', 'AFFX-BioB-M_at', 'AFFX-BioB-M_st', 'AFFX-BioC-3_at', 'AFFX-BioC-3_st', 'AFFX-BioC-5_at', 'AFFX-BioC-5_st', 'AFFX-BioDn-3_st', 'AFFX-BioDn-5_at', 'AFFX-BioDn-5_st', 'AFFX-CreX-3_at', 'AFFX-CreX-3_st', 'AFFX-CreX-5_at', 'AFFX-CreX-5_st', 'AFFX-DapX-3_at', 'AFFX-DapX-5_at', 'AFFX-DapX-M_at', 'AFFX-HUMRGE/M10098_3_at', 'AFFX-HUMRGE/M10098_5_at', 'AFFX-HUMRGE/M10098_M_at', 'AFFX-LysX-3_at', 'AFFX-LysX-5_at', 'AFFX-LysX-M_at', 'AFFX-M27830_3_at', 'AFFX-M27830_5_at', 'AFFX-M27830_M_at', 'AFFX-MurFAS_at', 'AFFX-MurIL10_at', 'AFFX-MurIL2_at', 'AFFX-MurIL4_at', 'AFFX-PheX-3_at', 'AFFX-PheX-5_at', 'AFFX-PheX-M_at', 'AFFX-ThrX-3_at', 'AFFX-ThrX-5_at', 'AFFX-ThrX-M_at', 'AFFX-TrpnX-3_at', 'AFFX-TrpnX-5_at', 'AFFX-TrpnX-M_at', 'AFFX-YEL002c/WBP1_at', 'AFFX-YEL018w/_at', 'AFFX-YEL021w/URA3_at', 'AFFX-YEL024w/RIP1_at', 'AFFX-hum_alu_at']\n"
     ]
    }
   ],
   "source": [
    "nan_genes = genes[genes[\"chrom\"].isna()].index.values # genes not associated with chromosomes\n",
    "control_genes = [gene for gene in nan_genes if gene.startswith(\"AFFX\")]\n",
    "print(control_genes)"
   ]
  },
  {
   "cell_type": "code",
   "execution_count": 53,
   "metadata": {},
   "outputs": [],
   "source": [
    "lab_names = [\"Davis\", \"Michigan\", \"Irvine\"]\n",
    "lab_to_data = {}\n",
    "for lab in lab_names:\n",
    "    lab_patients = samples[samples[\"lab\"] == lab].index\n",
    "    lab_to_data[lab] = expression.loc[lab_patients]"
   ]
  },
  {
   "cell_type": "code",
   "execution_count": 64,
   "metadata": {},
   "outputs": [
    {
     "data": {
      "image/png": "[encoded data removed]",
      "text/plain": [
       "<Figure size 1500x500 with 1 Axes>"
      ]
     },
     "metadata": {},
     "output_type": "display_data"
    }
   ],
   "source": [
    "control_gene_vals = []\n",
    "for lab in lab_names:\n",
    "    lab_controls = [lab_to_data[lab][control_gene].mean() for control_gene in control_genes]\n",
    "    control_gene_vals.append(lab_controls)\n",
    "\n",
    "N = len(control_genes)\n",
    "ind = np.arange(N)\n",
    "plt.figure(figsize=(15,5))\n",
    "width = 0.6\n",
    "\n",
    "for i in range(3):\n",
    "    plt.bar(ind + i * width / 3, control_gene_vals[i] , width / 3, label=lab_names[i])\n",
    "\n",
    "plt.xlabel(r\"$\\mathrm{Control \\ Genes}$\")\n",
    "plt.ylabel(r\"$\\mathrm{Mean \\ Expression}$\")\n",
    "plt.title(r\"$\\mathrm{Mean \\ Control \\ Expression \\ Across \\ Labs}$\")\n",
    "\n",
    "plt.legend(loc='best')\n",
    "plt.show()"
   ]
  },
  {
   "cell_type": "markdown",
   "metadata": {},
   "source": [
    "Normalization purely on the spike-in data seems like it may not be fully justified, given that the Irvine lab seems to have a systematically higher control spike count than the rest. It seems unlikely that they got all chips that were more highly expressed, so this seems more likely to have been caused by differences in how the experimenters ran the tests.\n",
    "\n",
    "We should, therefore, restrict the normalization to *each lab* separately (and similarly do so for the analysis)."
   ]
  }
 ],
 "metadata": {
  "kernelspec": {
   "display_name": "Python 3.8.13 ('bliss')",
   "language": "python",
   "name": "python3"
  },
  "language_info": {
   "codemirror_mode": {
    "name": "ipython",
    "version": 3
   },
   "file_extension": ".py",
   "mimetype": "text/x-python",
   "name": "python",
   "nbconvert_exporter": "python",
   "pygments_lexer": "ipython3",
   "version": "3.8.13"
  },
  "orig_nbformat": 4,
  "vscode": {
   "interpreter": {
    "hash": "97f4452dae6bdba237fd800176b85e526041526e1433dfb6b82689f83ea463b6"
   }
  }
 },
 "nbformat": 4,
 "nbformat_minor": 2
}
